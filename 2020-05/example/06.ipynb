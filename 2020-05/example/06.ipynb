{
 "cells": [
  {
   "cell_type": "code",
   "execution_count": 1,
   "metadata": {},
   "outputs": [],
   "source": [
    "import pandas as pd\n",
    "import xlwings as xw"
   ]
  },
  {
   "cell_type": "code",
   "execution_count": 2,
   "metadata": {},
   "outputs": [
    {
     "output_type": "execute_result",
     "data": {
      "text/plain": "'d:\\\\Work\\\\이러닝\\\\2020-05\\\\example'"
     },
     "metadata": {},
     "execution_count": 2
    }
   ],
   "source": [
    "%pwd"
   ]
  },
  {
   "cell_type": "code",
   "execution_count": 3,
   "metadata": {},
   "outputs": [
    {
     "output_type": "execute_result",
     "data": {
      "text/plain": "<Book [2016-01.xls]>"
     },
     "metadata": {},
     "execution_count": 3
    }
   ],
   "source": [
    "workbook = xw.Book('data/2016-01.xls')\n",
    "workbook"
   ]
  },
  {
   "cell_type": "code",
   "execution_count": 4,
   "metadata": {},
   "outputs": [
    {
     "output_type": "execute_result",
     "data": {
      "text/plain": "Sheets([<Sheet [2016-01.xls]Sheet1>])"
     },
     "metadata": {},
     "execution_count": 4
    }
   ],
   "source": [
    "workbook.sheets"
   ]
  },
  {
   "cell_type": "code",
   "execution_count": 5,
   "metadata": {},
   "outputs": [
    {
     "output_type": "execute_result",
     "data": {
      "text/plain": "<Sheet [2016-01.xls]Sheet1>"
     },
     "metadata": {},
     "execution_count": 5
    }
   ],
   "source": [
    "workbook.sheets[-1]"
   ]
  },
  {
   "cell_type": "code",
   "execution_count": 6,
   "metadata": {},
   "outputs": [
    {
     "output_type": "execute_result",
     "data": {
      "text/plain": "<Sheet [2016-01.xls]Sheet1>"
     },
     "metadata": {},
     "execution_count": 6
    }
   ],
   "source": [
    "workbook.sheets.active"
   ]
  },
  {
   "cell_type": "code",
   "execution_count": 9,
   "metadata": {},
   "outputs": [
    {
     "output_type": "execute_result",
     "data": {
      "text/plain": "201"
     },
     "metadata": {},
     "execution_count": 9
    }
   ],
   "source": [
    "sheet = workbook.sheets.active\n",
    "data = sheet.range('A1').expand().value\n",
    "len(data)"
   ]
  },
  {
   "cell_type": "code",
   "execution_count": 13,
   "metadata": {},
   "outputs": [],
   "source": [
    "columns = data[0]"
   ]
  },
  {
   "cell_type": "code",
   "execution_count": 16,
   "metadata": {},
   "outputs": [
    {
     "output_type": "stream",
     "name": "stdout",
     "text": "(200, 2)\n"
    },
    {
     "output_type": "execute_result",
     "data": {
      "text/plain": "         판매건수       가격\n상품명                   \n봉투    12362.0     50.0\n바나나    4285.0   3900.0\n야채     4190.0      0.0\n켐벨포도   2780.0  29800.0\n알뜰특란   2768.0   5300.0",
      "text/html": "<div>\n<style scoped>\n    .dataframe tbody tr th:only-of-type {\n        vertical-align: middle;\n    }\n\n    .dataframe tbody tr th {\n        vertical-align: top;\n    }\n\n    .dataframe thead th {\n        text-align: right;\n    }\n</style>\n<table border=\"1\" class=\"dataframe\">\n  <thead>\n    <tr style=\"text-align: right;\">\n      <th></th>\n      <th>판매건수</th>\n      <th>가격</th>\n    </tr>\n    <tr>\n      <th>상품명</th>\n      <th></th>\n      <th></th>\n    </tr>\n  </thead>\n  <tbody>\n    <tr>\n      <th>봉투</th>\n      <td>12362.0</td>\n      <td>50.0</td>\n    </tr>\n    <tr>\n      <th>바나나</th>\n      <td>4285.0</td>\n      <td>3900.0</td>\n    </tr>\n    <tr>\n      <th>야채</th>\n      <td>4190.0</td>\n      <td>0.0</td>\n    </tr>\n    <tr>\n      <th>켐벨포도</th>\n      <td>2780.0</td>\n      <td>29800.0</td>\n    </tr>\n    <tr>\n      <th>알뜰특란</th>\n      <td>2768.0</td>\n      <td>5300.0</td>\n    </tr>\n  </tbody>\n</table>\n</div>"
     },
     "metadata": {},
     "execution_count": 16
    }
   ],
   "source": [
    "df = pd.DataFrame(data[1:], columns=columns).set_index('상품명')\n",
    "print(df.shape)\n",
    "df.head()"
   ]
  },
  {
   "cell_type": "code",
   "execution_count": 18,
   "metadata": {},
   "outputs": [
    {
     "output_type": "stream",
     "name": "stdout",
     "text": "봉투\n바나나\n야채\n켐벨포도\n알뜰특란\n딸기\n팔음산포도\n봉투\n애호박\n청양고추\n상추\n오)맛있는밥기획\n대파\n양파(소)\n강릉초당)왕콩나물\n백오이\n블루베리\n느타리버섯\n청과\n무우\n삼양)후레쉬기획\n감자\n봉지깻잎\n동양축산)하루한알(특란)\n바나나\n백설)계란이왔어요\n양배추\n깨나라)오곡물티슈(캡)\n오)3분쇠고기카레\n팽이버섯\n거봉\n새송이버섯\n동양축산)일품란\n대림)부산어묵(얇은)\n강릉초당)고소한두부(찌개용)\n대추방울\n사조)살코기참치기획\n녹차콩나물\n광동)삼다수(대)\n장수)막걸리\n깐마늘\n매일)ESL우유\n부사\n청양고추\n강릉초당)봉지두부\n감귤\n오)토마토케찹\n한우양지국거리(국내산)\n오)3분쇠고기짜장\n깻잎\n풀)소가/찌개두부\n생굴\n서울우유\n밤고구마\n빙)굿모닝우유\n쌈배추\n얼갈이\n다진마늘\n봉지사과\n삼부자)광천도시락김\n오징어\n크라운)참크래커\n그린키위\nCJ)행복한콩(고소부침)\nCJ)행복한콩(고소찌게)\n동양축산)백세건강란(특란)\n세척당근\n돼지찌게\n토마토\n한돈삼겹살(국내산)\n흙당근\n남양)GT맛있는우유\n봄동\n롯데)제주감귤\n풀)소가/부침두부\n농심)신라면멀티\n처음처럼\n부추\n대림)크라비아\n숙주\n참이슬후레쉬\n한성)런천미트\n롯데)베이컨\n손수)정성가득쌀떡국\n백설)햇반기획상품\n동원)마일드참치\n오)마일드참치\n아삭이고추\n삼양)갓짬뽕\n켐벨포도\n롯데)런천미트\n특수야채류\n양상추\n사과\n아침두부\n농심)너구리얼큰멀티\n섬초\n풀)액티비아컵(플레인)\n백설)이탈리아스파게티면\nCJ)얇은사각어묵\n하림닭도리탕(국내산)\n한돈목살구이(국내산)\n펭귄)꽁치\n오리온)초코칩번들\n브로컬리\n광동)삼다수(소)\n단호박\n풀)액티비아컵(딸기)\n강릉심층수팩두부\n동원)스위트콘\n미닛)오렌지100\n허니미니꿀호떡\n백설)진한참기름\n동서)아몬드후레이크\n칠갑)찰꼬마떡볶이\n백설)찹쌀호떡믹스\n롯데)비엔나기획\n영양부추\n청포도\n깐양파\n청경채\n롯데)요구르트\n깐대파\n켈로그)콘푸로스트\n신고배\n온동네)광천파래도시락김\n양배추\n닭가슴살(국내산)\n동서)맥심모카골드믹스\n크린백(중）25*35\n파프리카\n한성)비바크부어스트\n시래기\n목우촌)교자만두\n삼립)호빵(단팥6p)\nCJ)안심종합어묵\n칠성)아이시스8.0(대박스))\n농심)사리곰탕멀티\n칠갑)순쌀떡국\n목우촌)뚝심\n송학)쌀떡\n대림)국물떡볶이\n표고버섯\n백설)맛밤패밀리팩\n농심)육개장사발면\n오)진짬뽕\n사조)고추참치기획\n감귤\n사조)마일드참치기획\n종가)맛김치\n풀)하루에한알\n농심)안성탕면멀티\n해태)오예스\n풀)부산순야채어묵\n오)옛날사골곰탕\n해)킨사이다\n코카)미닛알로에\n롯)엔네이처프랑크\n백설)알짜란\n해)오예스(딸기)\n한돈등심/카레(국내산)\n감귤\n호박고구마\n일회용종이컵1줄\n백설)녹차찹쌀호떡믹스\n수입대패삼겹살\n미니파프리카\n양파(중)\n진주포차순대\n삼양)갓짜장\n한성)해물우동\n해표)식용유\n한돈오겹살(국내산)\n건미역(산모용)\n백설)부침가루\n대림)야채김자반기획\n롯)카스타드\n미나리\n코카콜라캔\n생강\n한성)미니윈너\n한성)튀김우동\n미닛)망고100\n파프리카\n꼬막\n한돈불고기(국내산)\n풀)국산콩나물\n코카콜라PET\n삼립)호빵(단팥야채)\n롯데)갸또쇼콜라\n황도복숭아\nCJ)주부초밥왕(소풍)\n온동네광천파래재래김(전장)\n새송이버섯\nCJ)행콩나물\n바지락\n해표)카놀라유\n오)자른당면\n롯데)알뜰소시지\n한돈앞다리/불고기,찌개(국내산)\n"
    }
   ],
   "source": [
    "for name in df.index:\n",
    "    print(name)"
   ]
  },
  {
   "cell_type": "code",
   "execution_count": 19,
   "metadata": {},
   "outputs": [
    {
     "output_type": "execute_result",
     "data": {
      "text/plain": "        판매건수     가격\n상품명                \n청양고추  1901.0    0.0\n청양고추   842.0  990.0",
      "text/html": "<div>\n<style scoped>\n    .dataframe tbody tr th:only-of-type {\n        vertical-align: middle;\n    }\n\n    .dataframe tbody tr th {\n        vertical-align: top;\n    }\n\n    .dataframe thead th {\n        text-align: right;\n    }\n</style>\n<table border=\"1\" class=\"dataframe\">\n  <thead>\n    <tr style=\"text-align: right;\">\n      <th></th>\n      <th>판매건수</th>\n      <th>가격</th>\n    </tr>\n    <tr>\n      <th>상품명</th>\n      <th></th>\n      <th></th>\n    </tr>\n  </thead>\n  <tbody>\n    <tr>\n      <th>청양고추</th>\n      <td>1901.0</td>\n      <td>0.0</td>\n    </tr>\n    <tr>\n      <th>청양고추</th>\n      <td>842.0</td>\n      <td>990.0</td>\n    </tr>\n  </tbody>\n</table>\n</div>"
     },
     "metadata": {},
     "execution_count": 19
    }
   ],
   "source": [
    "df.loc['청양고추']"
   ]
  },
  {
   "cell_type": "code",
   "execution_count": 23,
   "metadata": {},
   "outputs": [],
   "source": [
    "sheet.range('E2').value = 10"
   ]
  },
  {
   "cell_type": "code",
   "execution_count": 24,
   "metadata": {},
   "outputs": [],
   "source": [
    "sheet.range('E2').value = [10, 20, 30]"
   ]
  },
  {
   "cell_type": "code",
   "execution_count": 26,
   "metadata": {},
   "outputs": [],
   "source": [
    "sheet.range('E4').options(transpose=True).value = [20, 30, 40]"
   ]
  },
  {
   "cell_type": "code",
   "execution_count": 27,
   "metadata": {},
   "outputs": [],
   "source": [
    "sheet.range('E8:H12').value = 100"
   ]
  },
  {
   "cell_type": "code",
   "execution_count": 28,
   "metadata": {},
   "outputs": [],
   "source": [
    "sheet.range('E8:H12').clear_contents()"
   ]
  },
  {
   "cell_type": "code",
   "execution_count": 40,
   "metadata": {},
   "outputs": [],
   "source": [
    "매출 = df['판매건수'] * df['가격']"
   ]
  },
  {
   "cell_type": "code",
   "execution_count": 41,
   "metadata": {},
   "outputs": [
    {
     "output_type": "execute_result",
     "data": {
      "text/plain": "array([6.18100e+05, 1.67115e+07, 0.00000e+00, 8.28440e+07, 1.46704e+07,\n       0.00000e+00, 4.27878e+07, 6.11400e+04, 2.92338e+06, 0.00000e+00,\n       0.00000e+00, 7.51605e+06, 5.02726e+06, 4.79950e+06, 2.98155e+06,\n       2.23500e+06, 4.46404e+06, 1.93113e+06, 0.00000e+00, 2.78784e+06,\n       5.10375e+06, 0.00000e+00, 1.84950e+06, 2.27920e+06, 0.00000e+00,\n       4.01330e+06, 0.00000e+00, 2.03000e+06, 1.15600e+06, 1.06920e+06,\n       6.98970e+06, 1.50341e+06, 3.52160e+06, 1.48350e+06, 1.42050e+06,\n       7.02000e+06, 4.35100e+06, 9.07000e+05, 8.99000e+05, 8.88030e+05,\n       0.00000e+00, 2.02300e+06, 8.27120e+06, 8.33580e+05, 1.23300e+06,\n       0.00000e+00, 1.13970e+06, 0.00000e+00, 7.64000e+05, 7.35570e+05,\n       8.15100e+05, 0.00000e+00, 1.80774e+06, 0.00000e+00, 1.40580e+06,\n       1.52220e+06, 2.76120e+06, 0.00000e+00, 5.45100e+06, 3.70440e+06,\n       0.00000e+00, 2.02044e+06, 2.36600e+06, 9.97520e+05, 9.91600e+05,\n       2.91450e+06, 9.96000e+05, 0.00000e+00, 0.00000e+00, 0.00000e+00,\n       0.00000e+00, 1.51606e+06, 0.00000e+00, 1.48520e+06, 6.94100e+05,\n       2.04350e+06, 7.27200e+05, 3.31100e+06, 1.73460e+06, 0.00000e+00,\n       6.99600e+05, 1.54230e+06, 2.89338e+06, 1.82700e+06, 2.65420e+06,\n       1.29600e+06, 1.48720e+06, 8.41850e+05, 3.04560e+06, 0.00000e+00,\n       1.78802e+06, 0.00000e+00, 2.04572e+06, 0.00000e+00, 5.05000e+05,\n       1.94000e+06, 0.00000e+00, 1.14680e+06, 1.43960e+06, 7.30500e+05,\n       0.00000e+00, 0.00000e+00, 1.49940e+06, 1.94340e+06, 9.14760e+05,\n       2.29500e+05, 6.67520e+05, 1.04810e+06, 8.88000e+05, 6.82000e+05,\n       1.29800e+06, 4.39000e+05, 2.60130e+06, 1.79280e+06, 1.30540e+06,\n       1.90460e+06, 1.99500e+06, 5.40510e+05, 0.00000e+00, 0.00000e+00,\n       0.00000e+00, 4.02000e+05, 0.00000e+00, 2.86560e+06, 1.13970e+06,\n       1.14460e+06, 1.74150e+06, 0.00000e+00, 9.04400e+06, 8.50500e+05,\n       5.61730e+05, 1.73910e+06, 0.00000e+00, 3.03180e+06, 1.71120e+06,\n       1.54700e+06, 1.44474e+06, 1.47600e+06, 1.74704e+06, 2.14084e+06,\n       1.15050e+06, 8.51700e+05, 0.00000e+00, 2.57580e+06, 2.42250e+05,\n       1.78640e+06, 1.50100e+06, 1.41750e+06, 1.48200e+06, 1.54440e+06,\n       1.15875e+06, 1.00425e+06, 1.15900e+06, 4.27000e+05, 3.03000e+05,\n       6.79500e+05, 8.99960e+05, 2.08500e+06, 1.51980e+06, 1.13240e+06,\n       0.00000e+00, 8.85060e+06, 0.00000e+00, 1.91750e+05, 1.30830e+06,\n       0.00000e+00, 8.61220e+05, 1.20960e+06, 8.55260e+05, 1.54980e+06,\n       4.14700e+05, 1.60460e+06, 0.00000e+00, 1.06780e+06, 7.22400e+05,\n       7.98000e+05, 1.27400e+06, 0.00000e+00, 2.48310e+05, 0.00000e+00,\n       1.19190e+06, 3.85700e+05, 7.84700e+05, 0.00000e+00, 0.00000e+00,\n       0.00000e+00, 5.46000e+05, 6.99400e+05, 1.43000e+06, 1.02305e+06,\n       0.00000e+00, 9.60000e+05, 6.50250e+05, 0.00000e+00, 4.93350e+05,\n       0.00000e+00, 1.41680e+06, 1.47420e+06, 1.10880e+06, 0.00000e+00])"
     },
     "metadata": {},
     "execution_count": 41
    }
   ],
   "source": [
    "매출.values"
   ]
  },
  {
   "cell_type": "code",
   "execution_count": 42,
   "metadata": {},
   "outputs": [],
   "source": [
    "df['매출'] = 매출"
   ]
  },
  {
   "cell_type": "code",
   "execution_count": 43,
   "metadata": {},
   "outputs": [
    {
     "output_type": "execute_result",
     "data": {
      "text/plain": "                      판매건수       가격          매출\n상품명                                            \n봉투                 12362.0     50.0    618100.0\n바나나                 4285.0   3900.0  16711500.0\n야채                  4190.0      0.0         0.0\n켐벨포도                2780.0  29800.0  82844000.0\n알뜰특란                2768.0   5300.0  14670400.0\n...                    ...      ...         ...\n바지락                  253.0      0.0         0.0\n해표)카놀라유              253.0   5600.0   1416800.0\n오)자른당면               252.0   5850.0   1474200.0\n롯데)알뜰소시지             252.0   4400.0   1108800.0\n한돈앞다리/불고기,찌개(국내산)    252.0      0.0         0.0\n\n[200 rows x 3 columns]",
      "text/html": "<div>\n<style scoped>\n    .dataframe tbody tr th:only-of-type {\n        vertical-align: middle;\n    }\n\n    .dataframe tbody tr th {\n        vertical-align: top;\n    }\n\n    .dataframe thead th {\n        text-align: right;\n    }\n</style>\n<table border=\"1\" class=\"dataframe\">\n  <thead>\n    <tr style=\"text-align: right;\">\n      <th></th>\n      <th>판매건수</th>\n      <th>가격</th>\n      <th>매출</th>\n    </tr>\n    <tr>\n      <th>상품명</th>\n      <th></th>\n      <th></th>\n      <th></th>\n    </tr>\n  </thead>\n  <tbody>\n    <tr>\n      <th>봉투</th>\n      <td>12362.0</td>\n      <td>50.0</td>\n      <td>618100.0</td>\n    </tr>\n    <tr>\n      <th>바나나</th>\n      <td>4285.0</td>\n      <td>3900.0</td>\n      <td>16711500.0</td>\n    </tr>\n    <tr>\n      <th>야채</th>\n      <td>4190.0</td>\n      <td>0.0</td>\n      <td>0.0</td>\n    </tr>\n    <tr>\n      <th>켐벨포도</th>\n      <td>2780.0</td>\n      <td>29800.0</td>\n      <td>82844000.0</td>\n    </tr>\n    <tr>\n      <th>알뜰특란</th>\n      <td>2768.0</td>\n      <td>5300.0</td>\n      <td>14670400.0</td>\n    </tr>\n    <tr>\n      <th>...</th>\n      <td>...</td>\n      <td>...</td>\n      <td>...</td>\n    </tr>\n    <tr>\n      <th>바지락</th>\n      <td>253.0</td>\n      <td>0.0</td>\n      <td>0.0</td>\n    </tr>\n    <tr>\n      <th>해표)카놀라유</th>\n      <td>253.0</td>\n      <td>5600.0</td>\n      <td>1416800.0</td>\n    </tr>\n    <tr>\n      <th>오)자른당면</th>\n      <td>252.0</td>\n      <td>5850.0</td>\n      <td>1474200.0</td>\n    </tr>\n    <tr>\n      <th>롯데)알뜰소시지</th>\n      <td>252.0</td>\n      <td>4400.0</td>\n      <td>1108800.0</td>\n    </tr>\n    <tr>\n      <th>한돈앞다리/불고기,찌개(국내산)</th>\n      <td>252.0</td>\n      <td>0.0</td>\n      <td>0.0</td>\n    </tr>\n  </tbody>\n</table>\n<p>200 rows × 3 columns</p>\n</div>"
     },
     "metadata": {},
     "execution_count": 43
    }
   ],
   "source": [
    "df"
   ]
  },
  {
   "cell_type": "code",
   "execution_count": 44,
   "metadata": {},
   "outputs": [],
   "source": [
    "sheet.range('D1').value = '매출'"
   ]
  },
  {
   "cell_type": "code",
   "execution_count": 45,
   "metadata": {},
   "outputs": [],
   "source": [
    "sheet.range('D2').options(transpose=True).value = 매출.values"
   ]
  },
  {
   "cell_type": "code",
   "execution_count": 46,
   "metadata": {},
   "outputs": [
    {
     "output_type": "execute_result",
     "data": {
      "text/plain": "         판매건수       가격          매출\n상품명                               \n봉투    12362.0     50.0    618100.0\n바나나    4285.0   3900.0  16711500.0\n야채     4190.0      0.0         0.0\n켐벨포도   2780.0  29800.0  82844000.0\n알뜰특란   2768.0   5300.0  14670400.0",
      "text/html": "<div>\n<style scoped>\n    .dataframe tbody tr th:only-of-type {\n        vertical-align: middle;\n    }\n\n    .dataframe tbody tr th {\n        vertical-align: top;\n    }\n\n    .dataframe thead th {\n        text-align: right;\n    }\n</style>\n<table border=\"1\" class=\"dataframe\">\n  <thead>\n    <tr style=\"text-align: right;\">\n      <th></th>\n      <th>판매건수</th>\n      <th>가격</th>\n      <th>매출</th>\n    </tr>\n    <tr>\n      <th>상품명</th>\n      <th></th>\n      <th></th>\n      <th></th>\n    </tr>\n  </thead>\n  <tbody>\n    <tr>\n      <th>봉투</th>\n      <td>12362.0</td>\n      <td>50.0</td>\n      <td>618100.0</td>\n    </tr>\n    <tr>\n      <th>바나나</th>\n      <td>4285.0</td>\n      <td>3900.0</td>\n      <td>16711500.0</td>\n    </tr>\n    <tr>\n      <th>야채</th>\n      <td>4190.0</td>\n      <td>0.0</td>\n      <td>0.0</td>\n    </tr>\n    <tr>\n      <th>켐벨포도</th>\n      <td>2780.0</td>\n      <td>29800.0</td>\n      <td>82844000.0</td>\n    </tr>\n    <tr>\n      <th>알뜰특란</th>\n      <td>2768.0</td>\n      <td>5300.0</td>\n      <td>14670400.0</td>\n    </tr>\n  </tbody>\n</table>\n</div>"
     },
     "metadata": {},
     "execution_count": 46
    }
   ],
   "source": [
    "df.head()"
   ]
  },
  {
   "cell_type": "code",
   "execution_count": 47,
   "metadata": {},
   "outputs": [],
   "source": [
    "xw.view(df, sheet)"
   ]
  },
  {
   "cell_type": "code",
   "execution_count": 48,
   "metadata": {},
   "outputs": [],
   "source": [
    "workbook.save()"
   ]
  },
  {
   "cell_type": "code",
   "execution_count": 49,
   "metadata": {},
   "outputs": [],
   "source": [
    "workbook.app.kill()"
   ]
  },
  {
   "cell_type": "code",
   "execution_count": null,
   "metadata": {},
   "outputs": [],
   "source": []
  }
 ],
 "metadata": {
  "language_info": {
   "codemirror_mode": {
    "name": "ipython",
    "version": 3
   },
   "file_extension": ".py",
   "mimetype": "text/x-python",
   "name": "python",
   "nbconvert_exporter": "python",
   "pygments_lexer": "ipython3",
   "version": "3.7.6-final"
  },
  "orig_nbformat": 2,
  "kernelspec": {
   "name": "python3",
   "display_name": "Python 3"
  }
 },
 "nbformat": 4,
 "nbformat_minor": 2
}