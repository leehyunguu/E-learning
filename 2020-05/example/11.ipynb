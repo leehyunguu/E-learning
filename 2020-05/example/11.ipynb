{
 "cells": [
  {
   "cell_type": "code",
   "execution_count": 1,
   "metadata": {},
   "outputs": [],
   "source": [
    "import pandas as pd"
   ]
  },
  {
   "cell_type": "code",
   "execution_count": 2,
   "metadata": {},
   "outputs": [
    {
     "output_type": "stream",
     "name": "stdout",
     "text": "(100, 4)\n"
    },
    {
     "output_type": "execute_result",
     "data": {
      "text/plain": "                      album_name               artist_name  \\\nid                                                           \n31093710        Red Diary Page.2                    볼빨간사춘기   \n31085237  LOVE YOURSELF 轉 `Tear`                     방탄소년단   \n31113240       1÷χ=1 (UNDIVIDED)           Wanna One (워너원)   \n31113241       1÷χ=1 (UNDIVIDED)  Wanna One (워너원) - 트리플포지션   \n31113243       1÷χ=1 (UNDIVIDED)      Wanna One (워너원) - 더힐   \n\n                                 name     좋아요  \nid                                             \n31093710                           여행  124968  \n31085237                    FAKE LOVE  200654  \n31113240                   켜줘 (Light)   93035  \n31113241  캥거루 (Kangaroo) (Prod. ZICO)   79320  \n31113243             모래시계 (Prod. 헤이즈)   67872  ",
      "text/html": "<div>\n<style scoped>\n    .dataframe tbody tr th:only-of-type {\n        vertical-align: middle;\n    }\n\n    .dataframe tbody tr th {\n        vertical-align: top;\n    }\n\n    .dataframe thead th {\n        text-align: right;\n    }\n</style>\n<table border=\"1\" class=\"dataframe\">\n  <thead>\n    <tr style=\"text-align: right;\">\n      <th></th>\n      <th>album_name</th>\n      <th>artist_name</th>\n      <th>name</th>\n      <th>좋아요</th>\n    </tr>\n    <tr>\n      <th>id</th>\n      <th></th>\n      <th></th>\n      <th></th>\n      <th></th>\n    </tr>\n  </thead>\n  <tbody>\n    <tr>\n      <th>31093710</th>\n      <td>Red Diary Page.2</td>\n      <td>볼빨간사춘기</td>\n      <td>여행</td>\n      <td>124968</td>\n    </tr>\n    <tr>\n      <th>31085237</th>\n      <td>LOVE YOURSELF 轉 `Tear`</td>\n      <td>방탄소년단</td>\n      <td>FAKE LOVE</td>\n      <td>200654</td>\n    </tr>\n    <tr>\n      <th>31113240</th>\n      <td>1÷χ=1 (UNDIVIDED)</td>\n      <td>Wanna One (워너원)</td>\n      <td>켜줘 (Light)</td>\n      <td>93035</td>\n    </tr>\n    <tr>\n      <th>31113241</th>\n      <td>1÷χ=1 (UNDIVIDED)</td>\n      <td>Wanna One (워너원) - 트리플포지션</td>\n      <td>캥거루 (Kangaroo) (Prod. ZICO)</td>\n      <td>79320</td>\n    </tr>\n    <tr>\n      <th>31113243</th>\n      <td>1÷χ=1 (UNDIVIDED)</td>\n      <td>Wanna One (워너원) - 더힐</td>\n      <td>모래시계 (Prod. 헤이즈)</td>\n      <td>67872</td>\n    </tr>\n  </tbody>\n</table>\n</div>"
     },
     "metadata": {},
     "execution_count": 2
    }
   ],
   "source": [
    "df = pd.read_excel('data/top100.xlsx', index_col='id')\n",
    "print(df.shape)\n",
    "df.head()"
   ]
  },
  {
   "cell_type": "code",
   "execution_count": 9,
   "metadata": {},
   "outputs": [
    {
     "output_type": "execute_result",
     "data": {
      "text/plain": "id\n31093710                                     [여행]\n31085237                             [FAKE, LOVE]\n31113240                            [켜줘, (Light)]\n31113241         [캥거루, (Kangaroo), (Prod., ZICO)]\n31113243                     [모래시계, (Prod., 헤이즈)]\n                            ...                  \n31123659            [독감, (Who, Waits, For, Love)]\n30086173                                    [비행운]\n30383758                    [Lonely, (Feat., 태연)]\n30481578                                  [마지막처럼]\n30380953    [There`s, Nothing, Holdin`, Me, Back]\nName: name, Length: 100, dtype: object"
     },
     "metadata": {},
     "execution_count": 9
    }
   ],
   "source": [
    "df['name'].str[:10]"
   ]
  },
  {
   "cell_type": "code",
   "execution_count": 10,
   "metadata": {},
   "outputs": [
    {
     "output_type": "execute_result",
     "data": {
      "text/plain": "id\n31093710                                     [여행]\n31085237                             [FAKE, LOVE]\n31113240                            [켜줘, (Light)]\n31113241         [캥거루, (Kangaroo), (Prod., ZICO)]\n31113243                     [모래시계, (Prod., 헤이즈)]\n                            ...                  \n31123659            [독감, (Who, Waits, For, Love)]\n30086173                                    [비행운]\n30383758                    [Lonely, (Feat., 태연)]\n30481578                                  [마지막처럼]\n30380953    [There`s, Nothing, Holdin`, Me, Back]\nName: name, Length: 100, dtype: object"
     },
     "metadata": {},
     "execution_count": 10
    }
   ],
   "source": [
    "df['name'].str.split()"
   ]
  },
  {
   "cell_type": "code",
   "execution_count": 15,
   "metadata": {},
   "outputs": [
    {
     "output_type": "execute_result",
     "data": {
      "text/plain": "                0           1        2      3      4     5     6     7\nid                                                                    \n31093710       여행        None     None   None   None  None  None  None\n31085237     FAKE        LOVE     None   None   None  None  None  None\n31113240       켜줘     (Light)     None   None   None  None  None  None\n31113241      캥거루  (Kangaroo)   (Prod.  ZICO)   None  None  None  None\n31113243     모래시계      (Prod.     헤이즈)   None   None  None  None  None\n...           ...         ...      ...    ...    ...   ...   ...   ...\n31123659       독감        (Who    Waits    For  Love)  None  None  None\n30086173      비행운        None     None   None   None  None  None  None\n30383758   Lonely      (Feat.      태연)   None   None  None  None  None\n30481578    마지막처럼        None     None   None   None  None  None  None\n30380953  There`s     Nothing  Holdin`     Me   Back  None  None  None\n\n[100 rows x 8 columns]",
      "text/html": "<div>\n<style scoped>\n    .dataframe tbody tr th:only-of-type {\n        vertical-align: middle;\n    }\n\n    .dataframe tbody tr th {\n        vertical-align: top;\n    }\n\n    .dataframe thead th {\n        text-align: right;\n    }\n</style>\n<table border=\"1\" class=\"dataframe\">\n  <thead>\n    <tr style=\"text-align: right;\">\n      <th></th>\n      <th>0</th>\n      <th>1</th>\n      <th>2</th>\n      <th>3</th>\n      <th>4</th>\n      <th>5</th>\n      <th>6</th>\n      <th>7</th>\n    </tr>\n    <tr>\n      <th>id</th>\n      <th></th>\n      <th></th>\n      <th></th>\n      <th></th>\n      <th></th>\n      <th></th>\n      <th></th>\n      <th></th>\n    </tr>\n  </thead>\n  <tbody>\n    <tr>\n      <th>31093710</th>\n      <td>여행</td>\n      <td>None</td>\n      <td>None</td>\n      <td>None</td>\n      <td>None</td>\n      <td>None</td>\n      <td>None</td>\n      <td>None</td>\n    </tr>\n    <tr>\n      <th>31085237</th>\n      <td>FAKE</td>\n      <td>LOVE</td>\n      <td>None</td>\n      <td>None</td>\n      <td>None</td>\n      <td>None</td>\n      <td>None</td>\n      <td>None</td>\n    </tr>\n    <tr>\n      <th>31113240</th>\n      <td>켜줘</td>\n      <td>(Light)</td>\n      <td>None</td>\n      <td>None</td>\n      <td>None</td>\n      <td>None</td>\n      <td>None</td>\n      <td>None</td>\n    </tr>\n    <tr>\n      <th>31113241</th>\n      <td>캥거루</td>\n      <td>(Kangaroo)</td>\n      <td>(Prod.</td>\n      <td>ZICO)</td>\n      <td>None</td>\n      <td>None</td>\n      <td>None</td>\n      <td>None</td>\n    </tr>\n    <tr>\n      <th>31113243</th>\n      <td>모래시계</td>\n      <td>(Prod.</td>\n      <td>헤이즈)</td>\n      <td>None</td>\n      <td>None</td>\n      <td>None</td>\n      <td>None</td>\n      <td>None</td>\n    </tr>\n    <tr>\n      <th>...</th>\n      <td>...</td>\n      <td>...</td>\n      <td>...</td>\n      <td>...</td>\n      <td>...</td>\n      <td>...</td>\n      <td>...</td>\n      <td>...</td>\n    </tr>\n    <tr>\n      <th>31123659</th>\n      <td>독감</td>\n      <td>(Who</td>\n      <td>Waits</td>\n      <td>For</td>\n      <td>Love)</td>\n      <td>None</td>\n      <td>None</td>\n      <td>None</td>\n    </tr>\n    <tr>\n      <th>30086173</th>\n      <td>비행운</td>\n      <td>None</td>\n      <td>None</td>\n      <td>None</td>\n      <td>None</td>\n      <td>None</td>\n      <td>None</td>\n      <td>None</td>\n    </tr>\n    <tr>\n      <th>30383758</th>\n      <td>Lonely</td>\n      <td>(Feat.</td>\n      <td>태연)</td>\n      <td>None</td>\n      <td>None</td>\n      <td>None</td>\n      <td>None</td>\n      <td>None</td>\n    </tr>\n    <tr>\n      <th>30481578</th>\n      <td>마지막처럼</td>\n      <td>None</td>\n      <td>None</td>\n      <td>None</td>\n      <td>None</td>\n      <td>None</td>\n      <td>None</td>\n      <td>None</td>\n    </tr>\n    <tr>\n      <th>30380953</th>\n      <td>There`s</td>\n      <td>Nothing</td>\n      <td>Holdin`</td>\n      <td>Me</td>\n      <td>Back</td>\n      <td>None</td>\n      <td>None</td>\n      <td>None</td>\n    </tr>\n  </tbody>\n</table>\n<p>100 rows × 8 columns</p>\n</div>"
     },
     "metadata": {},
     "execution_count": 15
    }
   ],
   "source": [
    "df['name'].str.split(expand=True)"
   ]
  },
  {
   "cell_type": "code",
   "execution_count": 16,
   "metadata": {},
   "outputs": [
    {
     "output_type": "execute_result",
     "data": {
      "text/plain": "                0           1\nid                           \n31093710       여행        None\n31085237     FAKE        LOVE\n31113240       켜줘     (Light)\n31113241      캥거루  (Kangaroo)\n31113243     모래시계      (Prod.\n...           ...         ...\n31123659       독감        (Who\n30086173      비행운        None\n30383758   Lonely      (Feat.\n30481578    마지막처럼        None\n30380953  There`s     Nothing\n\n[100 rows x 2 columns]",
      "text/html": "<div>\n<style scoped>\n    .dataframe tbody tr th:only-of-type {\n        vertical-align: middle;\n    }\n\n    .dataframe tbody tr th {\n        vertical-align: top;\n    }\n\n    .dataframe thead th {\n        text-align: right;\n    }\n</style>\n<table border=\"1\" class=\"dataframe\">\n  <thead>\n    <tr style=\"text-align: right;\">\n      <th></th>\n      <th>0</th>\n      <th>1</th>\n    </tr>\n    <tr>\n      <th>id</th>\n      <th></th>\n      <th></th>\n    </tr>\n  </thead>\n  <tbody>\n    <tr>\n      <th>31093710</th>\n      <td>여행</td>\n      <td>None</td>\n    </tr>\n    <tr>\n      <th>31085237</th>\n      <td>FAKE</td>\n      <td>LOVE</td>\n    </tr>\n    <tr>\n      <th>31113240</th>\n      <td>켜줘</td>\n      <td>(Light)</td>\n    </tr>\n    <tr>\n      <th>31113241</th>\n      <td>캥거루</td>\n      <td>(Kangaroo)</td>\n    </tr>\n    <tr>\n      <th>31113243</th>\n      <td>모래시계</td>\n      <td>(Prod.</td>\n    </tr>\n    <tr>\n      <th>...</th>\n      <td>...</td>\n      <td>...</td>\n    </tr>\n    <tr>\n      <th>31123659</th>\n      <td>독감</td>\n      <td>(Who</td>\n    </tr>\n    <tr>\n      <th>30086173</th>\n      <td>비행운</td>\n      <td>None</td>\n    </tr>\n    <tr>\n      <th>30383758</th>\n      <td>Lonely</td>\n      <td>(Feat.</td>\n    </tr>\n    <tr>\n      <th>30481578</th>\n      <td>마지막처럼</td>\n      <td>None</td>\n    </tr>\n    <tr>\n      <th>30380953</th>\n      <td>There`s</td>\n      <td>Nothing</td>\n    </tr>\n  </tbody>\n</table>\n<p>100 rows × 2 columns</p>\n</div>"
     },
     "metadata": {},
     "execution_count": 16
    }
   ],
   "source": [
    "df['name'].str.split(expand=True)[[0, 1]]"
   ]
  },
  {
   "cell_type": "code",
   "execution_count": 24,
   "metadata": {},
   "outputs": [
    {
     "output_type": "execute_result",
     "data": {
      "text/plain": "                album_name artist_name    name     좋아요\nid                                                    \n31093710  Red Diary Page.2      볼빨간사춘기      여행  124968\n31093714  Red Diary Page.2      볼빨간사춘기  Lonely   26385",
      "text/html": "<div>\n<style scoped>\n    .dataframe tbody tr th:only-of-type {\n        vertical-align: middle;\n    }\n\n    .dataframe tbody tr th {\n        vertical-align: top;\n    }\n\n    .dataframe thead th {\n        text-align: right;\n    }\n</style>\n<table border=\"1\" class=\"dataframe\">\n  <thead>\n    <tr style=\"text-align: right;\">\n      <th></th>\n      <th>album_name</th>\n      <th>artist_name</th>\n      <th>name</th>\n      <th>좋아요</th>\n    </tr>\n    <tr>\n      <th>id</th>\n      <th></th>\n      <th></th>\n      <th></th>\n      <th></th>\n    </tr>\n  </thead>\n  <tbody>\n    <tr>\n      <th>31093710</th>\n      <td>Red Diary Page.2</td>\n      <td>볼빨간사춘기</td>\n      <td>여행</td>\n      <td>124968</td>\n    </tr>\n    <tr>\n      <th>31093714</th>\n      <td>Red Diary Page.2</td>\n      <td>볼빨간사춘기</td>\n      <td>Lonely</td>\n      <td>26385</td>\n    </tr>\n  </tbody>\n</table>\n</div>"
     },
     "metadata": {},
     "execution_count": 24
    }
   ],
   "source": [
    "cond = df['artist_name'].str.startswith('볼')\n",
    "df[cond]"
   ]
  },
  {
   "cell_type": "code",
   "execution_count": 29,
   "metadata": {},
   "outputs": [
    {
     "output_type": "execute_result",
     "data": {
      "text/plain": "         album_name artist_name                    name     좋아요\nid                                                             \n30859584     Return        iKON  사랑을 했다 (LOVE SCENARIO)  241405",
      "text/html": "<div>\n<style scoped>\n    .dataframe tbody tr th:only-of-type {\n        vertical-align: middle;\n    }\n\n    .dataframe tbody tr th {\n        vertical-align: top;\n    }\n\n    .dataframe thead th {\n        text-align: right;\n    }\n</style>\n<table border=\"1\" class=\"dataframe\">\n  <thead>\n    <tr style=\"text-align: right;\">\n      <th></th>\n      <th>album_name</th>\n      <th>artist_name</th>\n      <th>name</th>\n      <th>좋아요</th>\n    </tr>\n    <tr>\n      <th>id</th>\n      <th></th>\n      <th></th>\n      <th></th>\n      <th></th>\n    </tr>\n  </thead>\n  <tbody>\n    <tr>\n      <th>30859584</th>\n      <td>Return</td>\n      <td>iKON</td>\n      <td>사랑을 했다 (LOVE SCENARIO)</td>\n      <td>241405</td>\n    </tr>\n  </tbody>\n</table>\n</div>"
     },
     "metadata": {},
     "execution_count": 29
    }
   ],
   "source": [
    "cond = df['name'].str.contains('사랑')\n",
    "df[cond]"
   ]
  },
  {
   "cell_type": "code",
   "execution_count": 31,
   "metadata": {},
   "outputs": [
    {
     "output_type": "execute_result",
     "data": {
      "text/plain": "id\n31093710    0\n31085237    0\n31113240    0\n31113241    0\n31113243    0\n           ..\n31123659    0\n30086173    0\n30383758    0\n30481578    0\n30380953    0\nName: name, Length: 100, dtype: int64"
     },
     "metadata": {},
     "execution_count": 31
    }
   ],
   "source": [
    "df['name'].str.count('사랑')"
   ]
  },
  {
   "cell_type": "code",
   "execution_count": 34,
   "metadata": {},
   "outputs": [
    {
     "output_type": "execute_result",
     "data": {
      "text/plain": "id\n31093710                                 여행\n31085237                          FAKE LOVE\n31113240                         켜줘 (Light)\n31113241        캥거루 (Kangaroo) (Prod. ZICO)\n31113243                   모래시계 (Prod. 헤이즈)\n                         ...               \n31123659            독감 (Who Waits For Love)\n30086173                                비행운\n30383758                  Lonely (Feat. 태연)\n30481578                              마지막처럼\n30380953    There`s Nothing Holdin` Me Back\nName: name, Length: 100, dtype: object"
     },
     "metadata": {},
     "execution_count": 34
    }
   ],
   "source": [
    "df['name'].str.strip()"
   ]
  },
  {
   "cell_type": "code",
   "execution_count": 35,
   "metadata": {},
   "outputs": [
    {
     "output_type": "execute_result",
     "data": {
      "text/plain": "id\n31093710                                 여행\n31085237                          FAKE LOVE\n31113240                         켜줘 (LIGHT)\n31113241        캥거루 (KANGAROO) (PROD. ZICO)\n31113243                   모래시계 (PROD. 헤이즈)\n                         ...               \n31123659            독감 (WHO WAITS FOR LOVE)\n30086173                                비행운\n30383758                  LONELY (FEAT. 태연)\n30481578                              마지막처럼\n30380953    THERE`S NOTHING HOLDIN` ME BACK\nName: name, Length: 100, dtype: object"
     },
     "metadata": {},
     "execution_count": 35
    }
   ],
   "source": [
    "df['name'].str.upper()"
   ]
  },
  {
   "cell_type": "code",
   "execution_count": null,
   "metadata": {},
   "outputs": [],
   "source": []
  }
 ],
 "metadata": {
  "language_info": {
   "codemirror_mode": {
    "name": "ipython",
    "version": 3
   },
   "file_extension": ".py",
   "mimetype": "text/x-python",
   "name": "python",
   "nbconvert_exporter": "python",
   "pygments_lexer": "ipython3",
   "version": "3.7.6-final"
  },
  "orig_nbformat": 2,
  "kernelspec": {
   "name": "python3",
   "display_name": "Python 3"
  }
 },
 "nbformat": 4,
 "nbformat_minor": 2
}