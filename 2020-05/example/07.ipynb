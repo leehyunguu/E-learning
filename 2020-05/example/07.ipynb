{
 "cells": [
  {
   "cell_type": "code",
   "execution_count": 1,
   "metadata": {},
   "outputs": [],
   "source": [
    "import pandas as pd"
   ]
  },
  {
   "cell_type": "code",
   "execution_count": 4,
   "metadata": {},
   "outputs": [
    {
     "output_type": "stream",
     "name": "stdout",
     "text": "(200, 3)\n"
    },
    {
     "output_type": "execute_result",
     "data": {
      "text/plain": "       판매건수     가격        매출\n상품명                         \n봉투    12362     50    618100\n바나나    4285   3900  16711500\n야채     4190      0         0\n켐벨포도   2780  29800  82844000\n알뜰특란   2768   5300  14670400",
      "text/html": "<div>\n<style scoped>\n    .dataframe tbody tr th:only-of-type {\n        vertical-align: middle;\n    }\n\n    .dataframe tbody tr th {\n        vertical-align: top;\n    }\n\n    .dataframe thead th {\n        text-align: right;\n    }\n</style>\n<table border=\"1\" class=\"dataframe\">\n  <thead>\n    <tr style=\"text-align: right;\">\n      <th></th>\n      <th>판매건수</th>\n      <th>가격</th>\n      <th>매출</th>\n    </tr>\n    <tr>\n      <th>상품명</th>\n      <th></th>\n      <th></th>\n      <th></th>\n    </tr>\n  </thead>\n  <tbody>\n    <tr>\n      <th>봉투</th>\n      <td>12362</td>\n      <td>50</td>\n      <td>618100</td>\n    </tr>\n    <tr>\n      <th>바나나</th>\n      <td>4285</td>\n      <td>3900</td>\n      <td>16711500</td>\n    </tr>\n    <tr>\n      <th>야채</th>\n      <td>4190</td>\n      <td>0</td>\n      <td>0</td>\n    </tr>\n    <tr>\n      <th>켐벨포도</th>\n      <td>2780</td>\n      <td>29800</td>\n      <td>82844000</td>\n    </tr>\n    <tr>\n      <th>알뜰특란</th>\n      <td>2768</td>\n      <td>5300</td>\n      <td>14670400</td>\n    </tr>\n  </tbody>\n</table>\n</div>"
     },
     "metadata": {},
     "execution_count": 4
    }
   ],
   "source": [
    "df = pd.read_excel('data/2016-01.xls', index_col='상품명')\n",
    "print(df.shape)\n",
    "df.head()"
   ]
  },
  {
   "cell_type": "code",
   "execution_count": 5,
   "metadata": {},
   "outputs": [
    {
     "output_type": "stream",
     "text": "\u001b[1;31mSignature:\u001b[0m \u001b[0mdf\u001b[0m\u001b[1;33m.\u001b[0m\u001b[0mhead\u001b[0m\u001b[1;33m(\u001b[0m\u001b[0mn\u001b[0m\u001b[1;33m:\u001b[0m \u001b[0mint\u001b[0m \u001b[1;33m=\u001b[0m \u001b[1;36m5\u001b[0m\u001b[1;33m)\u001b[0m \u001b[1;33m->\u001b[0m \u001b[1;33m~\u001b[0m\u001b[0mFrameOrSeries\u001b[0m\u001b[1;33m\u001b[0m\u001b[1;33m\u001b[0m\u001b[0m\n\u001b[1;31mDocstring:\u001b[0m\nReturn the first `n` rows.\n\nThis function returns the first `n` rows for the object based\non position. It is useful for quickly testing if your object\nhas the right type of data in it.\n\nFor negative values of `n`, this function returns all rows except\nthe last `n` rows, equivalent to ``df[:-n]``.\n\nParameters\n----------\nn : int, default 5\n    Number of rows to select.\n\nReturns\n-------\nsame type as caller\n    The first `n` rows of the caller object.\n\nSee Also\n--------\nDataFrame.tail: Returns the last `n` rows.\n\nExamples\n--------\n>>> df = pd.DataFrame({'animal': ['alligator', 'bee', 'falcon', 'lion',\n...                    'monkey', 'parrot', 'shark', 'whale', 'zebra']})\n>>> df\n      animal\n0  alligator\n1        bee\n2     falcon\n3       lion\n4     monkey\n5     parrot\n6      shark\n7      whale\n8      zebra\n\nViewing the first 5 lines\n\n>>> df.head()\n      animal\n0  alligator\n1        bee\n2     falcon\n3       lion\n4     monkey\n\nViewing the first `n` lines (three in this case)\n\n>>> df.head(3)\n      animal\n0  alligator\n1        bee\n2     falcon\n\nFor negative values of `n`\n\n>>> df.head(-3)\n      animal\n0  alligator\n1        bee\n2     falcon\n3       lion\n4     monkey\n5     parrot\n\u001b[1;31mFile:\u001b[0m      d:\\work\\dev\\anaconda3\\lib\\site-packages\\pandas\\core\\generic.py\n\u001b[1;31mType:\u001b[0m      method\n"
    }
   ],
   "source": [
    "df.head?"
   ]
  },
  {
   "cell_type": "code",
   "execution_count": 6,
   "metadata": {},
   "outputs": [
    {
     "output_type": "execute_result",
     "data": {
      "text/plain": "        판매건수     가격        매출\n상품명                          \n봉투     12362     50    618100\n바나나     4285   3900  16711500\n야채      4190      0         0\n켐벨포도    2780  29800  82844000\n알뜰특란    2768   5300  14670400\n딸기      2234      0         0\n팔음산포도   2161  19800  42787800\n봉투      2038     30     61140\n애호박     1962   1490   2923380\n청양고추    1901      0         0",
      "text/html": "<div>\n<style scoped>\n    .dataframe tbody tr th:only-of-type {\n        vertical-align: middle;\n    }\n\n    .dataframe tbody tr th {\n        vertical-align: top;\n    }\n\n    .dataframe thead th {\n        text-align: right;\n    }\n</style>\n<table border=\"1\" class=\"dataframe\">\n  <thead>\n    <tr style=\"text-align: right;\">\n      <th></th>\n      <th>판매건수</th>\n      <th>가격</th>\n      <th>매출</th>\n    </tr>\n    <tr>\n      <th>상품명</th>\n      <th></th>\n      <th></th>\n      <th></th>\n    </tr>\n  </thead>\n  <tbody>\n    <tr>\n      <th>봉투</th>\n      <td>12362</td>\n      <td>50</td>\n      <td>618100</td>\n    </tr>\n    <tr>\n      <th>바나나</th>\n      <td>4285</td>\n      <td>3900</td>\n      <td>16711500</td>\n    </tr>\n    <tr>\n      <th>야채</th>\n      <td>4190</td>\n      <td>0</td>\n      <td>0</td>\n    </tr>\n    <tr>\n      <th>켐벨포도</th>\n      <td>2780</td>\n      <td>29800</td>\n      <td>82844000</td>\n    </tr>\n    <tr>\n      <th>알뜰특란</th>\n      <td>2768</td>\n      <td>5300</td>\n      <td>14670400</td>\n    </tr>\n    <tr>\n      <th>딸기</th>\n      <td>2234</td>\n      <td>0</td>\n      <td>0</td>\n    </tr>\n    <tr>\n      <th>팔음산포도</th>\n      <td>2161</td>\n      <td>19800</td>\n      <td>42787800</td>\n    </tr>\n    <tr>\n      <th>봉투</th>\n      <td>2038</td>\n      <td>30</td>\n      <td>61140</td>\n    </tr>\n    <tr>\n      <th>애호박</th>\n      <td>1962</td>\n      <td>1490</td>\n      <td>2923380</td>\n    </tr>\n    <tr>\n      <th>청양고추</th>\n      <td>1901</td>\n      <td>0</td>\n      <td>0</td>\n    </tr>\n  </tbody>\n</table>\n</div>"
     },
     "metadata": {},
     "execution_count": 6
    }
   ],
   "source": [
    "df.head(10)"
   ]
  },
  {
   "cell_type": "code",
   "execution_count": 7,
   "metadata": {},
   "outputs": [
    {
     "output_type": "execute_result",
     "data": {
      "text/plain": "                   판매건수    가격       매출\n상품명                                   \n바지락                 253     0        0\n해표)카놀라유             253  5600  1416800\n오)자른당면              252  5850  1474200\n롯데)알뜰소시지            252  4400  1108800\n한돈앞다리/불고기,찌개(국내산)   252     0        0",
      "text/html": "<div>\n<style scoped>\n    .dataframe tbody tr th:only-of-type {\n        vertical-align: middle;\n    }\n\n    .dataframe tbody tr th {\n        vertical-align: top;\n    }\n\n    .dataframe thead th {\n        text-align: right;\n    }\n</style>\n<table border=\"1\" class=\"dataframe\">\n  <thead>\n    <tr style=\"text-align: right;\">\n      <th></th>\n      <th>판매건수</th>\n      <th>가격</th>\n      <th>매출</th>\n    </tr>\n    <tr>\n      <th>상품명</th>\n      <th></th>\n      <th></th>\n      <th></th>\n    </tr>\n  </thead>\n  <tbody>\n    <tr>\n      <th>바지락</th>\n      <td>253</td>\n      <td>0</td>\n      <td>0</td>\n    </tr>\n    <tr>\n      <th>해표)카놀라유</th>\n      <td>253</td>\n      <td>5600</td>\n      <td>1416800</td>\n    </tr>\n    <tr>\n      <th>오)자른당면</th>\n      <td>252</td>\n      <td>5850</td>\n      <td>1474200</td>\n    </tr>\n    <tr>\n      <th>롯데)알뜰소시지</th>\n      <td>252</td>\n      <td>4400</td>\n      <td>1108800</td>\n    </tr>\n    <tr>\n      <th>한돈앞다리/불고기,찌개(국내산)</th>\n      <td>252</td>\n      <td>0</td>\n      <td>0</td>\n    </tr>\n  </tbody>\n</table>\n</div>"
     },
     "metadata": {},
     "execution_count": 7
    }
   ],
   "source": [
    "df.tail()"
   ]
  },
  {
   "cell_type": "code",
   "execution_count": 8,
   "metadata": {},
   "outputs": [
    {
     "output_type": "execute_result",
     "data": {
      "text/plain": "        판매건수     가격        매출\n상품명                          \n봉투     12362     50    618100\n바나나     4285   3900  16711500\n야채      4190      0         0\n켐벨포도    2780  29800  82844000\n알뜰특란    2768   5300  14670400\n딸기      2234      0         0\n팔음산포도   2161  19800  42787800\n봉투      2038     30     61140\n애호박     1962   1490   2923380\n청양고추    1901      0         0",
      "text/html": "<div>\n<style scoped>\n    .dataframe tbody tr th:only-of-type {\n        vertical-align: middle;\n    }\n\n    .dataframe tbody tr th {\n        vertical-align: top;\n    }\n\n    .dataframe thead th {\n        text-align: right;\n    }\n</style>\n<table border=\"1\" class=\"dataframe\">\n  <thead>\n    <tr style=\"text-align: right;\">\n      <th></th>\n      <th>판매건수</th>\n      <th>가격</th>\n      <th>매출</th>\n    </tr>\n    <tr>\n      <th>상품명</th>\n      <th></th>\n      <th></th>\n      <th></th>\n    </tr>\n  </thead>\n  <tbody>\n    <tr>\n      <th>봉투</th>\n      <td>12362</td>\n      <td>50</td>\n      <td>618100</td>\n    </tr>\n    <tr>\n      <th>바나나</th>\n      <td>4285</td>\n      <td>3900</td>\n      <td>16711500</td>\n    </tr>\n    <tr>\n      <th>야채</th>\n      <td>4190</td>\n      <td>0</td>\n      <td>0</td>\n    </tr>\n    <tr>\n      <th>켐벨포도</th>\n      <td>2780</td>\n      <td>29800</td>\n      <td>82844000</td>\n    </tr>\n    <tr>\n      <th>알뜰특란</th>\n      <td>2768</td>\n      <td>5300</td>\n      <td>14670400</td>\n    </tr>\n    <tr>\n      <th>딸기</th>\n      <td>2234</td>\n      <td>0</td>\n      <td>0</td>\n    </tr>\n    <tr>\n      <th>팔음산포도</th>\n      <td>2161</td>\n      <td>19800</td>\n      <td>42787800</td>\n    </tr>\n    <tr>\n      <th>봉투</th>\n      <td>2038</td>\n      <td>30</td>\n      <td>61140</td>\n    </tr>\n    <tr>\n      <th>애호박</th>\n      <td>1962</td>\n      <td>1490</td>\n      <td>2923380</td>\n    </tr>\n    <tr>\n      <th>청양고추</th>\n      <td>1901</td>\n      <td>0</td>\n      <td>0</td>\n    </tr>\n  </tbody>\n</table>\n</div>"
     },
     "metadata": {},
     "execution_count": 8
    }
   ],
   "source": [
    "df.nlargest(10, '판매건수')"
   ]
  },
  {
   "cell_type": "code",
   "execution_count": 9,
   "metadata": {},
   "outputs": [
    {
     "output_type": "execute_result",
     "data": {
      "text/plain": "                   판매건수    가격       매출\n상품명                                   \n오)자른당면              252  5850  1474200\n롯데)알뜰소시지            252  4400  1108800\n한돈앞다리/불고기,찌개(국내산)   252     0        0\nCJ)행콩나물             253  1950   493350\n바지락                 253     0        0\n해표)카놀라유             253  5600  1416800\n온동네광천파래재래김(전장)      255  2550   650250\n새송이버섯               255     0        0\nCJ)주부초밥왕(소풍)        256  3750   960000\n황도복숭아               258     0        0",
      "text/html": "<div>\n<style scoped>\n    .dataframe tbody tr th:only-of-type {\n        vertical-align: middle;\n    }\n\n    .dataframe tbody tr th {\n        vertical-align: top;\n    }\n\n    .dataframe thead th {\n        text-align: right;\n    }\n</style>\n<table border=\"1\" class=\"dataframe\">\n  <thead>\n    <tr style=\"text-align: right;\">\n      <th></th>\n      <th>판매건수</th>\n      <th>가격</th>\n      <th>매출</th>\n    </tr>\n    <tr>\n      <th>상품명</th>\n      <th></th>\n      <th></th>\n      <th></th>\n    </tr>\n  </thead>\n  <tbody>\n    <tr>\n      <th>오)자른당면</th>\n      <td>252</td>\n      <td>5850</td>\n      <td>1474200</td>\n    </tr>\n    <tr>\n      <th>롯데)알뜰소시지</th>\n      <td>252</td>\n      <td>4400</td>\n      <td>1108800</td>\n    </tr>\n    <tr>\n      <th>한돈앞다리/불고기,찌개(국내산)</th>\n      <td>252</td>\n      <td>0</td>\n      <td>0</td>\n    </tr>\n    <tr>\n      <th>CJ)행콩나물</th>\n      <td>253</td>\n      <td>1950</td>\n      <td>493350</td>\n    </tr>\n    <tr>\n      <th>바지락</th>\n      <td>253</td>\n      <td>0</td>\n      <td>0</td>\n    </tr>\n    <tr>\n      <th>해표)카놀라유</th>\n      <td>253</td>\n      <td>5600</td>\n      <td>1416800</td>\n    </tr>\n    <tr>\n      <th>온동네광천파래재래김(전장)</th>\n      <td>255</td>\n      <td>2550</td>\n      <td>650250</td>\n    </tr>\n    <tr>\n      <th>새송이버섯</th>\n      <td>255</td>\n      <td>0</td>\n      <td>0</td>\n    </tr>\n    <tr>\n      <th>CJ)주부초밥왕(소풍)</th>\n      <td>256</td>\n      <td>3750</td>\n      <td>960000</td>\n    </tr>\n    <tr>\n      <th>황도복숭아</th>\n      <td>258</td>\n      <td>0</td>\n      <td>0</td>\n    </tr>\n  </tbody>\n</table>\n</div>"
     },
     "metadata": {},
     "execution_count": 9
    }
   ],
   "source": [
    "df.nsmallest(10, '판매건수')"
   ]
  },
  {
   "cell_type": "code",
   "execution_count": 10,
   "metadata": {},
   "outputs": [
    {
     "output_type": "execute_result",
     "data": {
      "text/plain": "                   판매건수    가격       매출\n상품명                                   \n한돈앞다리/불고기,찌개(국내산)   252     0        0\n롯데)알뜰소시지            252  4400  1108800\n오)자른당면              252  5850  1474200\n바지락                 253     0        0\nCJ)행콩나물             253  1950   493350\n해표)카놀라유             253  5600  1416800\n새송이버섯               255     0        0\n온동네광천파래재래김(전장)      255  2550   650250\nCJ)주부초밥왕(소풍)        256  3750   960000\n황도복숭아               258     0        0",
      "text/html": "<div>\n<style scoped>\n    .dataframe tbody tr th:only-of-type {\n        vertical-align: middle;\n    }\n\n    .dataframe tbody tr th {\n        vertical-align: top;\n    }\n\n    .dataframe thead th {\n        text-align: right;\n    }\n</style>\n<table border=\"1\" class=\"dataframe\">\n  <thead>\n    <tr style=\"text-align: right;\">\n      <th></th>\n      <th>판매건수</th>\n      <th>가격</th>\n      <th>매출</th>\n    </tr>\n    <tr>\n      <th>상품명</th>\n      <th></th>\n      <th></th>\n      <th></th>\n    </tr>\n  </thead>\n  <tbody>\n    <tr>\n      <th>한돈앞다리/불고기,찌개(국내산)</th>\n      <td>252</td>\n      <td>0</td>\n      <td>0</td>\n    </tr>\n    <tr>\n      <th>롯데)알뜰소시지</th>\n      <td>252</td>\n      <td>4400</td>\n      <td>1108800</td>\n    </tr>\n    <tr>\n      <th>오)자른당면</th>\n      <td>252</td>\n      <td>5850</td>\n      <td>1474200</td>\n    </tr>\n    <tr>\n      <th>바지락</th>\n      <td>253</td>\n      <td>0</td>\n      <td>0</td>\n    </tr>\n    <tr>\n      <th>CJ)행콩나물</th>\n      <td>253</td>\n      <td>1950</td>\n      <td>493350</td>\n    </tr>\n    <tr>\n      <th>해표)카놀라유</th>\n      <td>253</td>\n      <td>5600</td>\n      <td>1416800</td>\n    </tr>\n    <tr>\n      <th>새송이버섯</th>\n      <td>255</td>\n      <td>0</td>\n      <td>0</td>\n    </tr>\n    <tr>\n      <th>온동네광천파래재래김(전장)</th>\n      <td>255</td>\n      <td>2550</td>\n      <td>650250</td>\n    </tr>\n    <tr>\n      <th>CJ)주부초밥왕(소풍)</th>\n      <td>256</td>\n      <td>3750</td>\n      <td>960000</td>\n    </tr>\n    <tr>\n      <th>황도복숭아</th>\n      <td>258</td>\n      <td>0</td>\n      <td>0</td>\n    </tr>\n  </tbody>\n</table>\n</div>"
     },
     "metadata": {},
     "execution_count": 10
    }
   ],
   "source": [
    "df.nsmallest(10, ['판매건수', '가격'])"
   ]
  },
  {
   "cell_type": "code",
   "execution_count": 11,
   "metadata": {},
   "outputs": [
    {
     "output_type": "stream",
     "text": "\u001b[1;31mSignature:\u001b[0m\n\u001b[0mdf\u001b[0m\u001b[1;33m.\u001b[0m\u001b[0msort_values\u001b[0m\u001b[1;33m(\u001b[0m\u001b[1;33m\n\u001b[0m    \u001b[0mby\u001b[0m\u001b[1;33m,\u001b[0m\u001b[1;33m\n\u001b[0m    \u001b[0maxis\u001b[0m\u001b[1;33m=\u001b[0m\u001b[1;36m0\u001b[0m\u001b[1;33m,\u001b[0m\u001b[1;33m\n\u001b[0m    \u001b[0mascending\u001b[0m\u001b[1;33m=\u001b[0m\u001b[1;32mTrue\u001b[0m\u001b[1;33m,\u001b[0m\u001b[1;33m\n\u001b[0m    \u001b[0minplace\u001b[0m\u001b[1;33m=\u001b[0m\u001b[1;32mFalse\u001b[0m\u001b[1;33m,\u001b[0m\u001b[1;33m\n\u001b[0m    \u001b[0mkind\u001b[0m\u001b[1;33m=\u001b[0m\u001b[1;34m'quicksort'\u001b[0m\u001b[1;33m,\u001b[0m\u001b[1;33m\n\u001b[0m    \u001b[0mna_position\u001b[0m\u001b[1;33m=\u001b[0m\u001b[1;34m'last'\u001b[0m\u001b[1;33m,\u001b[0m\u001b[1;33m\n\u001b[0m    \u001b[0mignore_index\u001b[0m\u001b[1;33m=\u001b[0m\u001b[1;32mFalse\u001b[0m\u001b[1;33m,\u001b[0m\u001b[1;33m\n\u001b[0m\u001b[1;33m)\u001b[0m\u001b[1;33m\u001b[0m\u001b[1;33m\u001b[0m\u001b[0m\n\u001b[1;31mDocstring:\u001b[0m\nSort by the values along either axis.\n\nParameters\n----------\n        by : str or list of str\n            Name or list of names to sort by.\n\n            - if `axis` is 0 or `'index'` then `by` may contain index\n              levels and/or column labels.\n            - if `axis` is 1 or `'columns'` then `by` may contain column\n              levels and/or index labels.\n\n            .. versionchanged:: 0.23.0\n\n               Allow specifying index or column level names.\naxis : {0 or 'index', 1 or 'columns'}, default 0\n     Axis to be sorted.\nascending : bool or list of bool, default True\n     Sort ascending vs. descending. Specify list for multiple sort\n     orders.  If this is a list of bools, must match the length of\n     the by.\ninplace : bool, default False\n     If True, perform operation in-place.\nkind : {'quicksort', 'mergesort', 'heapsort'}, default 'quicksort'\n     Choice of sorting algorithm. See also ndarray.np.sort for more\n     information.  `mergesort` is the only stable algorithm. For\n     DataFrames, this option is only applied when sorting on a single\n     column or label.\nna_position : {'first', 'last'}, default 'last'\n     Puts NaNs at the beginning if `first`; `last` puts NaNs at the\n     end.\nignore_index : bool, default False\n     If True, the resulting axis will be labeled 0, 1, …, n - 1.\n\n     .. versionadded:: 1.0.0\n\nReturns\n-------\nsorted_obj : DataFrame or None\n    DataFrame with sorted values if inplace=False, None otherwise.\n\nExamples\n--------\n>>> df = pd.DataFrame({\n...     'col1': ['A', 'A', 'B', np.nan, 'D', 'C'],\n...     'col2': [2, 1, 9, 8, 7, 4],\n...     'col3': [0, 1, 9, 4, 2, 3],\n... })\n>>> df\n    col1 col2 col3\n0   A    2    0\n1   A    1    1\n2   B    9    9\n3   NaN  8    4\n4   D    7    2\n5   C    4    3\n\nSort by col1\n\n>>> df.sort_values(by=['col1'])\n    col1 col2 col3\n0   A    2    0\n1   A    1    1\n2   B    9    9\n5   C    4    3\n4   D    7    2\n3   NaN  8    4\n\nSort by multiple columns\n\n>>> df.sort_values(by=['col1', 'col2'])\n    col1 col2 col3\n1   A    1    1\n0   A    2    0\n2   B    9    9\n5   C    4    3\n4   D    7    2\n3   NaN  8    4\n\nSort Descending\n\n>>> df.sort_values(by='col1', ascending=False)\n    col1 col2 col3\n4   D    7    2\n5   C    4    3\n2   B    9    9\n0   A    2    0\n1   A    1    1\n3   NaN  8    4\n\nPutting NAs first\n\n>>> df.sort_values(by='col1', ascending=False, na_position='first')\n    col1 col2 col3\n3   NaN  8    4\n4   D    7    2\n5   C    4    3\n2   B    9    9\n0   A    2    0\n1   A    1    1\n\u001b[1;31mFile:\u001b[0m      d:\\work\\dev\\anaconda3\\lib\\site-packages\\pandas\\core\\frame.py\n\u001b[1;31mType:\u001b[0m      method\n"
    }
   ],
   "source": [
    "df.sort_values?"
   ]
  },
  {
   "cell_type": "code",
   "execution_count": 16,
   "metadata": {},
   "outputs": [
    {
     "output_type": "execute_result",
     "data": {
      "text/plain": "              판매건수     가격        매출\n상품명                                \n켐벨포도          2780  29800  82844000\n감귤             297  29800   8850600\n동서)맥심모카골드믹스    380  23800   9044000\n팔음산포도         2161  19800  42787800\n부사             844   9800   8271200\n...            ...    ...       ...\n풀)액티비아컵(플레인)   488   2350   1146800\n롯데)제주감귤        632   2350   1485200\n해)킨사이다         302   2250    679500\n크린백(중）25*35    378   2250    850500\n동원)마일드참치       576   2250   1296000\n\n[100 rows x 3 columns]",
      "text/html": "<div>\n<style scoped>\n    .dataframe tbody tr th:only-of-type {\n        vertical-align: middle;\n    }\n\n    .dataframe tbody tr th {\n        vertical-align: top;\n    }\n\n    .dataframe thead th {\n        text-align: right;\n    }\n</style>\n<table border=\"1\" class=\"dataframe\">\n  <thead>\n    <tr style=\"text-align: right;\">\n      <th></th>\n      <th>판매건수</th>\n      <th>가격</th>\n      <th>매출</th>\n    </tr>\n    <tr>\n      <th>상품명</th>\n      <th></th>\n      <th></th>\n      <th></th>\n    </tr>\n  </thead>\n  <tbody>\n    <tr>\n      <th>켐벨포도</th>\n      <td>2780</td>\n      <td>29800</td>\n      <td>82844000</td>\n    </tr>\n    <tr>\n      <th>감귤</th>\n      <td>297</td>\n      <td>29800</td>\n      <td>8850600</td>\n    </tr>\n    <tr>\n      <th>동서)맥심모카골드믹스</th>\n      <td>380</td>\n      <td>23800</td>\n      <td>9044000</td>\n    </tr>\n    <tr>\n      <th>팔음산포도</th>\n      <td>2161</td>\n      <td>19800</td>\n      <td>42787800</td>\n    </tr>\n    <tr>\n      <th>부사</th>\n      <td>844</td>\n      <td>9800</td>\n      <td>8271200</td>\n    </tr>\n    <tr>\n      <th>...</th>\n      <td>...</td>\n      <td>...</td>\n      <td>...</td>\n    </tr>\n    <tr>\n      <th>풀)액티비아컵(플레인)</th>\n      <td>488</td>\n      <td>2350</td>\n      <td>1146800</td>\n    </tr>\n    <tr>\n      <th>롯데)제주감귤</th>\n      <td>632</td>\n      <td>2350</td>\n      <td>1485200</td>\n    </tr>\n    <tr>\n      <th>해)킨사이다</th>\n      <td>302</td>\n      <td>2250</td>\n      <td>679500</td>\n    </tr>\n    <tr>\n      <th>크린백(중）25*35</th>\n      <td>378</td>\n      <td>2250</td>\n      <td>850500</td>\n    </tr>\n    <tr>\n      <th>동원)마일드참치</th>\n      <td>576</td>\n      <td>2250</td>\n      <td>1296000</td>\n    </tr>\n  </tbody>\n</table>\n<p>100 rows × 3 columns</p>\n</div>"
     },
     "metadata": {},
     "execution_count": 16
    }
   ],
   "source": [
    "df.sort_values('가격', ascending=False)[:100]"
   ]
  },
  {
   "cell_type": "code",
   "execution_count": 17,
   "metadata": {},
   "outputs": [
    {
     "output_type": "execute_result",
     "data": {
      "text/plain": "Index(['판매건수', '가격', '매출'], dtype='object')"
     },
     "metadata": {},
     "execution_count": 17
    }
   ],
   "source": [
    "df.columns"
   ]
  },
  {
   "cell_type": "code",
   "execution_count": 18,
   "metadata": {},
   "outputs": [
    {
     "output_type": "execute_result",
     "data": {
      "text/plain": "상품명\n봉투                   12362\n바나나                   4285\n야채                    4190\n켐벨포도                  2780\n알뜰특란                  2768\n                     ...  \n바지락                    253\n해표)카놀라유                253\n오)자른당면                 252\n롯데)알뜰소시지               252\n한돈앞다리/불고기,찌개(국내산)      252\nName: 판매건수, Length: 200, dtype: int64"
     },
     "metadata": {},
     "execution_count": 18
    }
   ],
   "source": [
    "df['판매건수']"
   ]
  },
  {
   "cell_type": "code",
   "execution_count": 20,
   "metadata": {},
   "outputs": [
    {
     "output_type": "execute_result",
     "data": {
      "text/plain": "                    판매건수\n상품명                     \n봉투                 12362\n바나나                 4285\n야채                  4190\n켐벨포도                2780\n알뜰특란                2768\n...                  ...\n바지락                  253\n해표)카놀라유              253\n오)자른당면               252\n롯데)알뜰소시지             252\n한돈앞다리/불고기,찌개(국내산)    252\n\n[200 rows x 1 columns]",
      "text/html": "<div>\n<style scoped>\n    .dataframe tbody tr th:only-of-type {\n        vertical-align: middle;\n    }\n\n    .dataframe tbody tr th {\n        vertical-align: top;\n    }\n\n    .dataframe thead th {\n        text-align: right;\n    }\n</style>\n<table border=\"1\" class=\"dataframe\">\n  <thead>\n    <tr style=\"text-align: right;\">\n      <th></th>\n      <th>판매건수</th>\n    </tr>\n    <tr>\n      <th>상품명</th>\n      <th></th>\n    </tr>\n  </thead>\n  <tbody>\n    <tr>\n      <th>봉투</th>\n      <td>12362</td>\n    </tr>\n    <tr>\n      <th>바나나</th>\n      <td>4285</td>\n    </tr>\n    <tr>\n      <th>야채</th>\n      <td>4190</td>\n    </tr>\n    <tr>\n      <th>켐벨포도</th>\n      <td>2780</td>\n    </tr>\n    <tr>\n      <th>알뜰특란</th>\n      <td>2768</td>\n    </tr>\n    <tr>\n      <th>...</th>\n      <td>...</td>\n    </tr>\n    <tr>\n      <th>바지락</th>\n      <td>253</td>\n    </tr>\n    <tr>\n      <th>해표)카놀라유</th>\n      <td>253</td>\n    </tr>\n    <tr>\n      <th>오)자른당면</th>\n      <td>252</td>\n    </tr>\n    <tr>\n      <th>롯데)알뜰소시지</th>\n      <td>252</td>\n    </tr>\n    <tr>\n      <th>한돈앞다리/불고기,찌개(국내산)</th>\n      <td>252</td>\n    </tr>\n  </tbody>\n</table>\n<p>200 rows × 1 columns</p>\n</div>"
     },
     "metadata": {},
     "execution_count": 20
    }
   ],
   "source": [
    "names = ['판매건수']\n",
    "df[names]"
   ]
  },
  {
   "cell_type": "code",
   "execution_count": 21,
   "metadata": {},
   "outputs": [
    {
     "output_type": "execute_result",
     "data": {
      "text/plain": "                 가격\n상품명                \n켐벨포도          29800\n감귤            29800\n동서)맥심모카골드믹스   23800\n팔음산포도         19800\n부사             9800\n...             ...\n풀)액티비아컵(플레인)   2350\n롯데)제주감귤        2350\n해)킨사이다         2250\n크린백(중）25*35    2250\n동원)마일드참치       2250\n\n[100 rows x 1 columns]",
      "text/html": "<div>\n<style scoped>\n    .dataframe tbody tr th:only-of-type {\n        vertical-align: middle;\n    }\n\n    .dataframe tbody tr th {\n        vertical-align: top;\n    }\n\n    .dataframe thead th {\n        text-align: right;\n    }\n</style>\n<table border=\"1\" class=\"dataframe\">\n  <thead>\n    <tr style=\"text-align: right;\">\n      <th></th>\n      <th>가격</th>\n    </tr>\n    <tr>\n      <th>상품명</th>\n      <th></th>\n    </tr>\n  </thead>\n  <tbody>\n    <tr>\n      <th>켐벨포도</th>\n      <td>29800</td>\n    </tr>\n    <tr>\n      <th>감귤</th>\n      <td>29800</td>\n    </tr>\n    <tr>\n      <th>동서)맥심모카골드믹스</th>\n      <td>23800</td>\n    </tr>\n    <tr>\n      <th>팔음산포도</th>\n      <td>19800</td>\n    </tr>\n    <tr>\n      <th>부사</th>\n      <td>9800</td>\n    </tr>\n    <tr>\n      <th>...</th>\n      <td>...</td>\n    </tr>\n    <tr>\n      <th>풀)액티비아컵(플레인)</th>\n      <td>2350</td>\n    </tr>\n    <tr>\n      <th>롯데)제주감귤</th>\n      <td>2350</td>\n    </tr>\n    <tr>\n      <th>해)킨사이다</th>\n      <td>2250</td>\n    </tr>\n    <tr>\n      <th>크린백(중）25*35</th>\n      <td>2250</td>\n    </tr>\n    <tr>\n      <th>동원)마일드참치</th>\n      <td>2250</td>\n    </tr>\n  </tbody>\n</table>\n<p>100 rows × 1 columns</p>\n</div>"
     },
     "metadata": {},
     "execution_count": 21
    }
   ],
   "source": [
    "df.sort_values('가격', ascending=False)[['가격']][:100]"
   ]
  },
  {
   "cell_type": "code",
   "execution_count": 26,
   "metadata": {},
   "outputs": [
    {
     "output_type": "execute_result",
     "data": {
      "text/plain": "      판매건수  가격      매출\n상품명                   \n봉투   12362  50  618100\n야채    4190   0       0\n딸기    2234   0       0\n봉투    2038  30   61140",
      "text/html": "<div>\n<style scoped>\n    .dataframe tbody tr th:only-of-type {\n        vertical-align: middle;\n    }\n\n    .dataframe tbody tr th {\n        vertical-align: top;\n    }\n\n    .dataframe thead th {\n        text-align: right;\n    }\n</style>\n<table border=\"1\" class=\"dataframe\">\n  <thead>\n    <tr style=\"text-align: right;\">\n      <th></th>\n      <th>판매건수</th>\n      <th>가격</th>\n      <th>매출</th>\n    </tr>\n    <tr>\n      <th>상품명</th>\n      <th></th>\n      <th></th>\n      <th></th>\n    </tr>\n  </thead>\n  <tbody>\n    <tr>\n      <th>봉투</th>\n      <td>12362</td>\n      <td>50</td>\n      <td>618100</td>\n    </tr>\n    <tr>\n      <th>야채</th>\n      <td>4190</td>\n      <td>0</td>\n      <td>0</td>\n    </tr>\n    <tr>\n      <th>딸기</th>\n      <td>2234</td>\n      <td>0</td>\n      <td>0</td>\n    </tr>\n    <tr>\n      <th>봉투</th>\n      <td>2038</td>\n      <td>30</td>\n      <td>61140</td>\n    </tr>\n  </tbody>\n</table>\n</div>"
     },
     "metadata": {},
     "execution_count": 26
    }
   ],
   "source": [
    "names = ['야채', '딸기', '봉투']\n",
    "df.loc[names].sort_values('판매건수', ascending=False)"
   ]
  },
  {
   "cell_type": "code",
   "execution_count": 27,
   "metadata": {},
   "outputs": [
    {
     "output_type": "execute_result",
     "data": {
      "text/plain": "        판매건수     가격        매출\n상품명                          \n봉투     12362     50    618100\n바나나     4285   3900  16711500\n야채      4190      0         0\n켐벨포도    2780  29800  82844000\n알뜰특란    2768   5300  14670400\n딸기      2234      0         0\n팔음산포도   2161  19800  42787800\n봉투      2038     30     61140\n애호박     1962   1490   2923380\n청양고추    1901      0         0",
      "text/html": "<div>\n<style scoped>\n    .dataframe tbody tr th:only-of-type {\n        vertical-align: middle;\n    }\n\n    .dataframe tbody tr th {\n        vertical-align: top;\n    }\n\n    .dataframe thead th {\n        text-align: right;\n    }\n</style>\n<table border=\"1\" class=\"dataframe\">\n  <thead>\n    <tr style=\"text-align: right;\">\n      <th></th>\n      <th>판매건수</th>\n      <th>가격</th>\n      <th>매출</th>\n    </tr>\n    <tr>\n      <th>상품명</th>\n      <th></th>\n      <th></th>\n      <th></th>\n    </tr>\n  </thead>\n  <tbody>\n    <tr>\n      <th>봉투</th>\n      <td>12362</td>\n      <td>50</td>\n      <td>618100</td>\n    </tr>\n    <tr>\n      <th>바나나</th>\n      <td>4285</td>\n      <td>3900</td>\n      <td>16711500</td>\n    </tr>\n    <tr>\n      <th>야채</th>\n      <td>4190</td>\n      <td>0</td>\n      <td>0</td>\n    </tr>\n    <tr>\n      <th>켐벨포도</th>\n      <td>2780</td>\n      <td>29800</td>\n      <td>82844000</td>\n    </tr>\n    <tr>\n      <th>알뜰특란</th>\n      <td>2768</td>\n      <td>5300</td>\n      <td>14670400</td>\n    </tr>\n    <tr>\n      <th>딸기</th>\n      <td>2234</td>\n      <td>0</td>\n      <td>0</td>\n    </tr>\n    <tr>\n      <th>팔음산포도</th>\n      <td>2161</td>\n      <td>19800</td>\n      <td>42787800</td>\n    </tr>\n    <tr>\n      <th>봉투</th>\n      <td>2038</td>\n      <td>30</td>\n      <td>61140</td>\n    </tr>\n    <tr>\n      <th>애호박</th>\n      <td>1962</td>\n      <td>1490</td>\n      <td>2923380</td>\n    </tr>\n    <tr>\n      <th>청양고추</th>\n      <td>1901</td>\n      <td>0</td>\n      <td>0</td>\n    </tr>\n  </tbody>\n</table>\n</div>"
     },
     "metadata": {},
     "execution_count": 27
    }
   ],
   "source": [
    "df.iloc[:10]"
   ]
  },
  {
   "cell_type": "code",
   "execution_count": 28,
   "metadata": {},
   "outputs": [
    {
     "output_type": "execute_result",
     "data": {
      "text/plain": "        판매건수     가격        매출\n상품명                          \n봉투     12362     50    618100\n바나나     4285   3900  16711500\n야채      4190      0         0\n켐벨포도    2780  29800  82844000\n알뜰특란    2768   5300  14670400\n딸기      2234      0         0\n팔음산포도   2161  19800  42787800\n봉투      2038     30     61140\n애호박     1962   1490   2923380\n청양고추    1901      0         0",
      "text/html": "<div>\n<style scoped>\n    .dataframe tbody tr th:only-of-type {\n        vertical-align: middle;\n    }\n\n    .dataframe tbody tr th {\n        vertical-align: top;\n    }\n\n    .dataframe thead th {\n        text-align: right;\n    }\n</style>\n<table border=\"1\" class=\"dataframe\">\n  <thead>\n    <tr style=\"text-align: right;\">\n      <th></th>\n      <th>판매건수</th>\n      <th>가격</th>\n      <th>매출</th>\n    </tr>\n    <tr>\n      <th>상품명</th>\n      <th></th>\n      <th></th>\n      <th></th>\n    </tr>\n  </thead>\n  <tbody>\n    <tr>\n      <th>봉투</th>\n      <td>12362</td>\n      <td>50</td>\n      <td>618100</td>\n    </tr>\n    <tr>\n      <th>바나나</th>\n      <td>4285</td>\n      <td>3900</td>\n      <td>16711500</td>\n    </tr>\n    <tr>\n      <th>야채</th>\n      <td>4190</td>\n      <td>0</td>\n      <td>0</td>\n    </tr>\n    <tr>\n      <th>켐벨포도</th>\n      <td>2780</td>\n      <td>29800</td>\n      <td>82844000</td>\n    </tr>\n    <tr>\n      <th>알뜰특란</th>\n      <td>2768</td>\n      <td>5300</td>\n      <td>14670400</td>\n    </tr>\n    <tr>\n      <th>딸기</th>\n      <td>2234</td>\n      <td>0</td>\n      <td>0</td>\n    </tr>\n    <tr>\n      <th>팔음산포도</th>\n      <td>2161</td>\n      <td>19800</td>\n      <td>42787800</td>\n    </tr>\n    <tr>\n      <th>봉투</th>\n      <td>2038</td>\n      <td>30</td>\n      <td>61140</td>\n    </tr>\n    <tr>\n      <th>애호박</th>\n      <td>1962</td>\n      <td>1490</td>\n      <td>2923380</td>\n    </tr>\n    <tr>\n      <th>청양고추</th>\n      <td>1901</td>\n      <td>0</td>\n      <td>0</td>\n    </tr>\n  </tbody>\n</table>\n</div>"
     },
     "metadata": {},
     "execution_count": 28
    }
   ],
   "source": [
    "df.head(10)"
   ]
  },
  {
   "cell_type": "code",
   "execution_count": 29,
   "metadata": {},
   "outputs": [
    {
     "output_type": "execute_result",
     "data": {
      "text/plain": "      판매건수     가격        매출\n상품명                        \n야채    4190      0         0\n켐벨포도  2780  29800  82844000\n알뜰특란  2768   5300  14670400\n딸기    2234      0         0",
      "text/html": "<div>\n<style scoped>\n    .dataframe tbody tr th:only-of-type {\n        vertical-align: middle;\n    }\n\n    .dataframe tbody tr th {\n        vertical-align: top;\n    }\n\n    .dataframe thead th {\n        text-align: right;\n    }\n</style>\n<table border=\"1\" class=\"dataframe\">\n  <thead>\n    <tr style=\"text-align: right;\">\n      <th></th>\n      <th>판매건수</th>\n      <th>가격</th>\n      <th>매출</th>\n    </tr>\n    <tr>\n      <th>상품명</th>\n      <th></th>\n      <th></th>\n      <th></th>\n    </tr>\n  </thead>\n  <tbody>\n    <tr>\n      <th>야채</th>\n      <td>4190</td>\n      <td>0</td>\n      <td>0</td>\n    </tr>\n    <tr>\n      <th>켐벨포도</th>\n      <td>2780</td>\n      <td>29800</td>\n      <td>82844000</td>\n    </tr>\n    <tr>\n      <th>알뜰특란</th>\n      <td>2768</td>\n      <td>5300</td>\n      <td>14670400</td>\n    </tr>\n    <tr>\n      <th>딸기</th>\n      <td>2234</td>\n      <td>0</td>\n      <td>0</td>\n    </tr>\n  </tbody>\n</table>\n</div>"
     },
     "metadata": {},
     "execution_count": 29
    }
   ],
   "source": [
    "df.loc['야채':'딸기']"
   ]
  },
  {
   "cell_type": "code",
   "execution_count": 30,
   "metadata": {},
   "outputs": [
    {
     "output_type": "execute_result",
     "data": {
      "text/plain": "상품명\n야채             0\n켐벨포도    82844000\n알뜰특란    14670400\n딸기             0\nName: 매출, dtype: int64"
     },
     "metadata": {},
     "execution_count": 30
    }
   ],
   "source": [
    "df.loc['야채':'딸기', '매출']"
   ]
  },
  {
   "cell_type": "code",
   "execution_count": 32,
   "metadata": {},
   "outputs": [
    {
     "output_type": "execute_result",
     "data": {
      "text/plain": "            매출     가격\n상품명                  \n야채           0      0\n켐벨포도  82844000  29800\n알뜰특란  14670400   5300\n딸기           0      0",
      "text/html": "<div>\n<style scoped>\n    .dataframe tbody tr th:only-of-type {\n        vertical-align: middle;\n    }\n\n    .dataframe tbody tr th {\n        vertical-align: top;\n    }\n\n    .dataframe thead th {\n        text-align: right;\n    }\n</style>\n<table border=\"1\" class=\"dataframe\">\n  <thead>\n    <tr style=\"text-align: right;\">\n      <th></th>\n      <th>매출</th>\n      <th>가격</th>\n    </tr>\n    <tr>\n      <th>상품명</th>\n      <th></th>\n      <th></th>\n    </tr>\n  </thead>\n  <tbody>\n    <tr>\n      <th>야채</th>\n      <td>0</td>\n      <td>0</td>\n    </tr>\n    <tr>\n      <th>켐벨포도</th>\n      <td>82844000</td>\n      <td>29800</td>\n    </tr>\n    <tr>\n      <th>알뜰특란</th>\n      <td>14670400</td>\n      <td>5300</td>\n    </tr>\n    <tr>\n      <th>딸기</th>\n      <td>0</td>\n      <td>0</td>\n    </tr>\n  </tbody>\n</table>\n</div>"
     },
     "metadata": {},
     "execution_count": 32
    }
   ],
   "source": [
    "df.loc['야채':'딸기', ['매출', '가격']]"
   ]
  },
  {
   "cell_type": "code",
   "execution_count": 35,
   "metadata": {},
   "outputs": [
    {
     "output_type": "execute_result",
     "data": {
      "text/plain": "             판매건수     가격        매출\n상품명                               \n켐벨포도         2780  29800  82844000\n동서)맥심모카골드믹스   380  23800   9044000\n감귤            297  29800   8850600",
      "text/html": "<div>\n<style scoped>\n    .dataframe tbody tr th:only-of-type {\n        vertical-align: middle;\n    }\n\n    .dataframe tbody tr th {\n        vertical-align: top;\n    }\n\n    .dataframe thead th {\n        text-align: right;\n    }\n</style>\n<table border=\"1\" class=\"dataframe\">\n  <thead>\n    <tr style=\"text-align: right;\">\n      <th></th>\n      <th>판매건수</th>\n      <th>가격</th>\n      <th>매출</th>\n    </tr>\n    <tr>\n      <th>상품명</th>\n      <th></th>\n      <th></th>\n      <th></th>\n    </tr>\n  </thead>\n  <tbody>\n    <tr>\n      <th>켐벨포도</th>\n      <td>2780</td>\n      <td>29800</td>\n      <td>82844000</td>\n    </tr>\n    <tr>\n      <th>동서)맥심모카골드믹스</th>\n      <td>380</td>\n      <td>23800</td>\n      <td>9044000</td>\n    </tr>\n    <tr>\n      <th>감귤</th>\n      <td>297</td>\n      <td>29800</td>\n      <td>8850600</td>\n    </tr>\n  </tbody>\n</table>\n</div>"
     },
     "metadata": {},
     "execution_count": 35
    }
   ],
   "source": [
    "mask = df['가격'] > 20000\n",
    "df[mask]"
   ]
  },
  {
   "cell_type": "code",
   "execution_count": 36,
   "metadata": {},
   "outputs": [
    {
     "output_type": "execute_result",
     "data": {
      "text/plain": "             판매건수     가격        매출\n상품명                               \n알뜰특란         2768   5300  14670400\n팔음산포도        2161  19800  42787800\n거봉           1013   6900   6989700\n대추방울          936   7500   7020000\n부사            844   9800   8271200\n봉지사과          690   7900   5451000\n삼부자)광천도시락김    686   5400   3704400\n부추            602   5500   3311000\n삼양)갓짬뽕        564   5400   3045600\n백설)진한참기름      435   5980   2601300\n켈로그)콘푸로스트     398   7200   2865600\n목우촌)교자만두      372   8150   3031800\n목우촌)뚝심        358   5980   2140840\n백설)맛밤패밀리팩     324   7950   2575800\n오)진짬뽕         319   5600   1786400\n롯)엔네이처프랑크     300   6950   2085000\n백설)알짜란        298   5100   1519800\n삼양)갓짜장        287   5400   1549800\n해표)식용유        284   5650   1604600\n삼립)호빵(단팥야채)   260   5500   1430000\n해표)카놀라유       253   5600   1416800\n오)자른당면        252   5850   1474200",
      "text/html": "<div>\n<style scoped>\n    .dataframe tbody tr th:only-of-type {\n        vertical-align: middle;\n    }\n\n    .dataframe tbody tr th {\n        vertical-align: top;\n    }\n\n    .dataframe thead th {\n        text-align: right;\n    }\n</style>\n<table border=\"1\" class=\"dataframe\">\n  <thead>\n    <tr style=\"text-align: right;\">\n      <th></th>\n      <th>판매건수</th>\n      <th>가격</th>\n      <th>매출</th>\n    </tr>\n    <tr>\n      <th>상품명</th>\n      <th></th>\n      <th></th>\n      <th></th>\n    </tr>\n  </thead>\n  <tbody>\n    <tr>\n      <th>알뜰특란</th>\n      <td>2768</td>\n      <td>5300</td>\n      <td>14670400</td>\n    </tr>\n    <tr>\n      <th>팔음산포도</th>\n      <td>2161</td>\n      <td>19800</td>\n      <td>42787800</td>\n    </tr>\n    <tr>\n      <th>거봉</th>\n      <td>1013</td>\n      <td>6900</td>\n      <td>6989700</td>\n    </tr>\n    <tr>\n      <th>대추방울</th>\n      <td>936</td>\n      <td>7500</td>\n      <td>7020000</td>\n    </tr>\n    <tr>\n      <th>부사</th>\n      <td>844</td>\n      <td>9800</td>\n      <td>8271200</td>\n    </tr>\n    <tr>\n      <th>봉지사과</th>\n      <td>690</td>\n      <td>7900</td>\n      <td>5451000</td>\n    </tr>\n    <tr>\n      <th>삼부자)광천도시락김</th>\n      <td>686</td>\n      <td>5400</td>\n      <td>3704400</td>\n    </tr>\n    <tr>\n      <th>부추</th>\n      <td>602</td>\n      <td>5500</td>\n      <td>3311000</td>\n    </tr>\n    <tr>\n      <th>삼양)갓짬뽕</th>\n      <td>564</td>\n      <td>5400</td>\n      <td>3045600</td>\n    </tr>\n    <tr>\n      <th>백설)진한참기름</th>\n      <td>435</td>\n      <td>5980</td>\n      <td>2601300</td>\n    </tr>\n    <tr>\n      <th>켈로그)콘푸로스트</th>\n      <td>398</td>\n      <td>7200</td>\n      <td>2865600</td>\n    </tr>\n    <tr>\n      <th>목우촌)교자만두</th>\n      <td>372</td>\n      <td>8150</td>\n      <td>3031800</td>\n    </tr>\n    <tr>\n      <th>목우촌)뚝심</th>\n      <td>358</td>\n      <td>5980</td>\n      <td>2140840</td>\n    </tr>\n    <tr>\n      <th>백설)맛밤패밀리팩</th>\n      <td>324</td>\n      <td>7950</td>\n      <td>2575800</td>\n    </tr>\n    <tr>\n      <th>오)진짬뽕</th>\n      <td>319</td>\n      <td>5600</td>\n      <td>1786400</td>\n    </tr>\n    <tr>\n      <th>롯)엔네이처프랑크</th>\n      <td>300</td>\n      <td>6950</td>\n      <td>2085000</td>\n    </tr>\n    <tr>\n      <th>백설)알짜란</th>\n      <td>298</td>\n      <td>5100</td>\n      <td>1519800</td>\n    </tr>\n    <tr>\n      <th>삼양)갓짜장</th>\n      <td>287</td>\n      <td>5400</td>\n      <td>1549800</td>\n    </tr>\n    <tr>\n      <th>해표)식용유</th>\n      <td>284</td>\n      <td>5650</td>\n      <td>1604600</td>\n    </tr>\n    <tr>\n      <th>삼립)호빵(단팥야채)</th>\n      <td>260</td>\n      <td>5500</td>\n      <td>1430000</td>\n    </tr>\n    <tr>\n      <th>해표)카놀라유</th>\n      <td>253</td>\n      <td>5600</td>\n      <td>1416800</td>\n    </tr>\n    <tr>\n      <th>오)자른당면</th>\n      <td>252</td>\n      <td>5850</td>\n      <td>1474200</td>\n    </tr>\n  </tbody>\n</table>\n</div>"
     },
     "metadata": {},
     "execution_count": 36
    }
   ],
   "source": [
    "mask = (df['가격'] > 5000) & (df['가격']  <=20000)\n",
    "df[mask]"
   ]
  },
  {
   "cell_type": "code",
   "execution_count": null,
   "metadata": {},
   "outputs": [],
   "source": []
  }
 ],
 "metadata": {
  "language_info": {
   "codemirror_mode": {
    "name": "ipython",
    "version": 3
   },
   "file_extension": ".py",
   "mimetype": "text/x-python",
   "name": "python",
   "nbconvert_exporter": "python",
   "pygments_lexer": "ipython3",
   "version": "3.7.6-final"
  },
  "orig_nbformat": 2,
  "kernelspec": {
   "name": "python3",
   "display_name": "Python 3"
  }
 },
 "nbformat": 4,
 "nbformat_minor": 2
}