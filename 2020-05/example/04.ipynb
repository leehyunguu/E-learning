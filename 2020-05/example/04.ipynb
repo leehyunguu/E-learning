{
 "cells": [
  {
   "cell_type": "code",
   "execution_count": 4,
   "metadata": {},
   "outputs": [
    {
     "output_type": "stream",
     "name": "stdout",
     "text": "(1231, 1)\n"
    },
    {
     "output_type": "execute_result",
     "data": {
      "text/plain": "            종목코드\n종목명             \n제일홀딩스       3380\n하나금융9호스팩  261200\n교보7호스팩    267320\n보라티알      250000\n한화수성스팩    265920",
      "text/html": "<div>\n<style scoped>\n    .dataframe tbody tr th:only-of-type {\n        vertical-align: middle;\n    }\n\n    .dataframe tbody tr th {\n        vertical-align: top;\n    }\n\n    .dataframe thead th {\n        text-align: right;\n    }\n</style>\n<table border=\"1\" class=\"dataframe\">\n  <thead>\n    <tr style=\"text-align: right;\">\n      <th></th>\n      <th>종목코드</th>\n    </tr>\n    <tr>\n      <th>종목명</th>\n      <th></th>\n    </tr>\n  </thead>\n  <tbody>\n    <tr>\n      <th>제일홀딩스</th>\n      <td>3380</td>\n    </tr>\n    <tr>\n      <th>하나금융9호스팩</th>\n      <td>261200</td>\n    </tr>\n    <tr>\n      <th>교보7호스팩</th>\n      <td>267320</td>\n    </tr>\n    <tr>\n      <th>보라티알</th>\n      <td>250000</td>\n    </tr>\n    <tr>\n      <th>한화수성스팩</th>\n      <td>265920</td>\n    </tr>\n  </tbody>\n</table>\n</div>"
     },
     "metadata": {},
     "execution_count": 4
    }
   ],
   "source": [
    "import pandas as pd\n",
    "\n",
    "df = pd.read_csv('https://gist.githubusercontent.com/allieus/5ce98166166d06ee9060e6a261e812dc/raw', index_col='종목명')\n",
    "print(df.shape)\n",
    "df.head()"
   ]
  },
  {
   "cell_type": "code",
   "execution_count": 7,
   "metadata": {},
   "outputs": [
    {
     "output_type": "execute_result",
     "data": {
      "text/plain": "종목코드    250000\nName: 보라티알, dtype: int64"
     },
     "metadata": {},
     "execution_count": 7
    }
   ],
   "source": [
    "df.loc['보라티알']"
   ]
  },
  {
   "cell_type": "code",
   "execution_count": 13,
   "metadata": {},
   "outputs": [],
   "source": [
    "df_list = pd.read_html('https://astro.kasi.re.kr/like/pageView/5', encoding='UTF-8')"
   ]
  },
  {
   "cell_type": "code",
   "execution_count": 14,
   "metadata": {},
   "outputs": [
    {
     "output_type": "execute_result",
     "data": {
      "text/plain": "1"
     },
     "metadata": {},
     "execution_count": 14
    }
   ],
   "source": [
    "len(df_list)"
   ]
  },
  {
   "cell_type": "code",
   "execution_count": 15,
   "metadata": {},
   "outputs": [],
   "source": [
    "df = df_list[0]"
   ]
  },
  {
   "cell_type": "code",
   "execution_count": 20,
   "metadata": {},
   "outputs": [
    {
     "output_type": "stream",
     "name": "stdout",
     "text": "(31, 3)\n"
    },
    {
     "output_type": "execute_result",
     "data": {
      "text/plain": "               양력          음력                     음력간지\n0  2020-05-01 (금)  2020-04-09  경자(庚子)년 신사(辛巳)월 갑진(甲辰)일\n1  2020-05-02 (토)  2020-04-10  경자(庚子)년 신사(辛巳)월 을사(乙巳)일\n2  2020-05-03 (일)  2020-04-11  경자(庚子)년 신사(辛巳)월 병오(丙午)일\n3  2020-05-04 (월)  2020-04-12  경자(庚子)년 신사(辛巳)월 정미(丁未)일\n4  2020-05-05 (화)  2020-04-13  경자(庚子)년 신사(辛巳)월 무신(戊申)일",
      "text/html": "<div>\n<style scoped>\n    .dataframe tbody tr th:only-of-type {\n        vertical-align: middle;\n    }\n\n    .dataframe tbody tr th {\n        vertical-align: top;\n    }\n\n    .dataframe thead th {\n        text-align: right;\n    }\n</style>\n<table border=\"1\" class=\"dataframe\">\n  <thead>\n    <tr style=\"text-align: right;\">\n      <th></th>\n      <th>양력</th>\n      <th>음력</th>\n      <th>음력간지</th>\n    </tr>\n  </thead>\n  <tbody>\n    <tr>\n      <th>0</th>\n      <td>2020-05-01 (금)</td>\n      <td>2020-04-09</td>\n      <td>경자(庚子)년 신사(辛巳)월 갑진(甲辰)일</td>\n    </tr>\n    <tr>\n      <th>1</th>\n      <td>2020-05-02 (토)</td>\n      <td>2020-04-10</td>\n      <td>경자(庚子)년 신사(辛巳)월 을사(乙巳)일</td>\n    </tr>\n    <tr>\n      <th>2</th>\n      <td>2020-05-03 (일)</td>\n      <td>2020-04-11</td>\n      <td>경자(庚子)년 신사(辛巳)월 병오(丙午)일</td>\n    </tr>\n    <tr>\n      <th>3</th>\n      <td>2020-05-04 (월)</td>\n      <td>2020-04-12</td>\n      <td>경자(庚子)년 신사(辛巳)월 정미(丁未)일</td>\n    </tr>\n    <tr>\n      <th>4</th>\n      <td>2020-05-05 (화)</td>\n      <td>2020-04-13</td>\n      <td>경자(庚子)년 신사(辛巳)월 무신(戊申)일</td>\n    </tr>\n  </tbody>\n</table>\n</div>"
     },
     "metadata": {},
     "execution_count": 20
    }
   ],
   "source": [
    "print(df.shape)\n",
    "df.head()"
   ]
  },
  {
   "cell_type": "code",
   "execution_count": 22,
   "metadata": {},
   "outputs": [
    {
     "output_type": "execute_result",
     "data": {
      "text/plain": "                High       Low      Open     Close    Volume      Adj Close\nDate                                                                       \n2018-01-03  176800.0  172800.0  175200.0  174200.0  423950.0  173740.343750\n2018-01-04  179400.0  174600.0  175800.0  178600.0  650560.0  178128.734375\n2018-01-05  183600.0  176000.0  178600.0  181600.0  684055.0  181120.828125\n2018-01-08  190600.0  181600.0  183000.0  190000.0  981690.0  189498.656250\n2018-01-09  190400.0  186600.0  188800.0  188800.0  390135.0  188301.828125\n...              ...       ...       ...       ...       ...            ...\n2020-03-09  179500.0  179500.0  179500.0  179500.0       0.0  179500.000000\n2020-03-10  176000.0  165000.0  168000.0  172000.0  666532.0  172000.000000\n2020-03-11  174000.0  167500.0  172000.0  170000.0  483822.0  170000.000000\n2020-03-12  170000.0  170000.0  170000.0  170000.0       0.0  170000.000000\n2020-05-29  243000.0  230500.0  240000.0  234000.0  936178.0  234000.000000\n\n[537 rows x 6 columns]",
      "text/html": "<div>\n<style scoped>\n    .dataframe tbody tr th:only-of-type {\n        vertical-align: middle;\n    }\n\n    .dataframe tbody tr th {\n        vertical-align: top;\n    }\n\n    .dataframe thead th {\n        text-align: right;\n    }\n</style>\n<table border=\"1\" class=\"dataframe\">\n  <thead>\n    <tr style=\"text-align: right;\">\n      <th></th>\n      <th>High</th>\n      <th>Low</th>\n      <th>Open</th>\n      <th>Close</th>\n      <th>Volume</th>\n      <th>Adj Close</th>\n    </tr>\n    <tr>\n      <th>Date</th>\n      <th></th>\n      <th></th>\n      <th></th>\n      <th></th>\n      <th></th>\n      <th></th>\n    </tr>\n  </thead>\n  <tbody>\n    <tr>\n      <th>2018-01-03</th>\n      <td>176800.0</td>\n      <td>172800.0</td>\n      <td>175200.0</td>\n      <td>174200.0</td>\n      <td>423950.0</td>\n      <td>173740.343750</td>\n    </tr>\n    <tr>\n      <th>2018-01-04</th>\n      <td>179400.0</td>\n      <td>174600.0</td>\n      <td>175800.0</td>\n      <td>178600.0</td>\n      <td>650560.0</td>\n      <td>178128.734375</td>\n    </tr>\n    <tr>\n      <th>2018-01-05</th>\n      <td>183600.0</td>\n      <td>176000.0</td>\n      <td>178600.0</td>\n      <td>181600.0</td>\n      <td>684055.0</td>\n      <td>181120.828125</td>\n    </tr>\n    <tr>\n      <th>2018-01-08</th>\n      <td>190600.0</td>\n      <td>181600.0</td>\n      <td>183000.0</td>\n      <td>190000.0</td>\n      <td>981690.0</td>\n      <td>189498.656250</td>\n    </tr>\n    <tr>\n      <th>2018-01-09</th>\n      <td>190400.0</td>\n      <td>186600.0</td>\n      <td>188800.0</td>\n      <td>188800.0</td>\n      <td>390135.0</td>\n      <td>188301.828125</td>\n    </tr>\n    <tr>\n      <th>...</th>\n      <td>...</td>\n      <td>...</td>\n      <td>...</td>\n      <td>...</td>\n      <td>...</td>\n      <td>...</td>\n    </tr>\n    <tr>\n      <th>2020-03-09</th>\n      <td>179500.0</td>\n      <td>179500.0</td>\n      <td>179500.0</td>\n      <td>179500.0</td>\n      <td>0.0</td>\n      <td>179500.000000</td>\n    </tr>\n    <tr>\n      <th>2020-03-10</th>\n      <td>176000.0</td>\n      <td>165000.0</td>\n      <td>168000.0</td>\n      <td>172000.0</td>\n      <td>666532.0</td>\n      <td>172000.000000</td>\n    </tr>\n    <tr>\n      <th>2020-03-11</th>\n      <td>174000.0</td>\n      <td>167500.0</td>\n      <td>172000.0</td>\n      <td>170000.0</td>\n      <td>483822.0</td>\n      <td>170000.000000</td>\n    </tr>\n    <tr>\n      <th>2020-03-12</th>\n      <td>170000.0</td>\n      <td>170000.0</td>\n      <td>170000.0</td>\n      <td>170000.0</td>\n      <td>0.0</td>\n      <td>170000.000000</td>\n    </tr>\n    <tr>\n      <th>2020-05-29</th>\n      <td>243000.0</td>\n      <td>230500.0</td>\n      <td>240000.0</td>\n      <td>234000.0</td>\n      <td>936178.0</td>\n      <td>234000.000000</td>\n    </tr>\n  </tbody>\n</table>\n<p>537 rows × 6 columns</p>\n</div>"
     },
     "metadata": {},
     "execution_count": 22
    }
   ],
   "source": [
    "import pandas_datareader as pdr\n",
    "\n",
    "pdr.get_data_yahoo('035420.KS', '2018-01-01')"
   ]
  },
  {
   "cell_type": "code",
   "execution_count": null,
   "metadata": {},
   "outputs": [],
   "source": []
  }
 ],
 "metadata": {
  "language_info": {
   "codemirror_mode": {
    "name": "ipython",
    "version": 3
   },
   "file_extension": ".py",
   "mimetype": "text/x-python",
   "name": "python",
   "nbconvert_exporter": "python",
   "pygments_lexer": "ipython3",
   "version": "3.7.6-final"
  },
  "orig_nbformat": 2,
  "kernelspec": {
   "name": "python3",
   "display_name": "Python 3"
  }
 },
 "nbformat": 4,
 "nbformat_minor": 2
}