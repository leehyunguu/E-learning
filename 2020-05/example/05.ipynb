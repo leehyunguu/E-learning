{
 "cells": [
  {
   "cell_type": "code",
   "execution_count": 3,
   "metadata": {},
   "outputs": [
    {
     "output_type": "execute_result",
     "data": {
      "text/plain": "'0.17.1'"
     },
     "metadata": {},
     "execution_count": 3
    }
   ],
   "source": [
    "import xlwings as xw\n",
    "\n",
    "xw.__version__"
   ]
  },
  {
   "cell_type": "code",
   "execution_count": 9,
   "metadata": {},
   "outputs": [
    {
     "output_type": "execute_result",
     "data": {
      "text/plain": "[['apple', 'banana', 'berry'], [100, 230, 90], [140, 150, 40]]"
     },
     "metadata": {},
     "execution_count": 9
    }
   ],
   "source": [
    "data = [\n",
    "    ['apple', 'banana', 'berry'],\n",
    "    [100, 230, 90],\n",
    "    [140, 150, 40]\n",
    "]\n",
    "data"
   ]
  },
  {
   "cell_type": "code",
   "execution_count": 5,
   "metadata": {},
   "outputs": [],
   "source": [
    "xw.view(data)"
   ]
  },
  {
   "cell_type": "code",
   "execution_count": 10,
   "metadata": {},
   "outputs": [
    {
     "output_type": "execute_result",
     "data": {
      "text/plain": "array([[0.29019383, 0.13593553, 0.44533672, 0.82983992, 0.7368266 ],\n       [0.75924779, 0.18462656, 0.80004996, 0.77679486, 0.50398524],\n       [0.38016022, 0.58461443, 0.52376425, 0.63627975, 0.59912802]])"
     },
     "metadata": {},
     "execution_count": 10
    }
   ],
   "source": [
    "import numpy as np\n",
    "\n",
    "data = np.random.rand(3, 5)\n",
    "data"
   ]
  },
  {
   "cell_type": "code",
   "execution_count": 11,
   "metadata": {},
   "outputs": [],
   "source": [
    "xw.view(data)"
   ]
  },
  {
   "cell_type": "code",
   "execution_count": 14,
   "metadata": {},
   "outputs": [
    {
     "output_type": "execute_result",
     "data": {
      "text/plain": "<Sheet [통합 문서1]Sheet1>"
     },
     "metadata": {},
     "execution_count": 14
    }
   ],
   "source": [
    "xw.sheets.active"
   ]
  },
  {
   "cell_type": "code",
   "execution_count": 17,
   "metadata": {},
   "outputs": [],
   "source": [
    "xw.view(data, xw.sheets.active)"
   ]
  },
  {
   "cell_type": "code",
   "execution_count": 21,
   "metadata": {},
   "outputs": [
    {
     "output_type": "execute_result",
     "data": {
      "text/plain": "1"
     },
     "metadata": {},
     "execution_count": 21
    }
   ],
   "source": [
    "import pandas as pd\n",
    "\n",
    "url = 'https://finance.naver.com/marketindex/exchangeList.nhn'\n",
    "df_list = pd.read_html(url)\n",
    "len(df_list)"
   ]
  },
  {
   "cell_type": "code",
   "execution_count": 23,
   "metadata": {},
   "outputs": [
    {
     "output_type": "stream",
     "name": "stdout",
     "text": "(44, 7)\n"
    },
    {
     "output_type": "execute_result",
     "data": {
      "text/plain": "             통화명    매매기준율       현찰                송금           미화환산율\n             통화명    매매기준율     사실 때     파실 때    보내실 때    받으실 때  미화환산율\n0         미국 USD  1237.50  1259.15  1215.85  1249.60  1225.40  1.000\n1       유럽연합 EUR  1373.25  1400.57  1345.93  1386.98  1359.52  1.110\n2  일본 JPY (100엔)  1154.65  1174.85  1134.45  1165.96  1143.34  0.933\n3         중국 CNY   172.62   181.25   163.99   174.34   170.90  0.140\n4         홍콩 HKD   159.62   162.76   156.48   161.21   158.03  0.129",
      "text/html": "<div>\n<style scoped>\n    .dataframe tbody tr th:only-of-type {\n        vertical-align: middle;\n    }\n\n    .dataframe tbody tr th {\n        vertical-align: top;\n    }\n\n    .dataframe thead tr th {\n        text-align: left;\n    }\n</style>\n<table border=\"1\" class=\"dataframe\">\n  <thead>\n    <tr>\n      <th></th>\n      <th>통화명</th>\n      <th>매매기준율</th>\n      <th colspan=\"2\" halign=\"left\">현찰</th>\n      <th colspan=\"2\" halign=\"left\">송금</th>\n      <th>미화환산율</th>\n    </tr>\n    <tr>\n      <th></th>\n      <th>통화명</th>\n      <th>매매기준율</th>\n      <th>사실 때</th>\n      <th>파실 때</th>\n      <th>보내실 때</th>\n      <th>받으실 때</th>\n      <th>미화환산율</th>\n    </tr>\n  </thead>\n  <tbody>\n    <tr>\n      <th>0</th>\n      <td>미국 USD</td>\n      <td>1237.50</td>\n      <td>1259.15</td>\n      <td>1215.85</td>\n      <td>1249.60</td>\n      <td>1225.40</td>\n      <td>1.000</td>\n    </tr>\n    <tr>\n      <th>1</th>\n      <td>유럽연합 EUR</td>\n      <td>1373.25</td>\n      <td>1400.57</td>\n      <td>1345.93</td>\n      <td>1386.98</td>\n      <td>1359.52</td>\n      <td>1.110</td>\n    </tr>\n    <tr>\n      <th>2</th>\n      <td>일본 JPY (100엔)</td>\n      <td>1154.65</td>\n      <td>1174.85</td>\n      <td>1134.45</td>\n      <td>1165.96</td>\n      <td>1143.34</td>\n      <td>0.933</td>\n    </tr>\n    <tr>\n      <th>3</th>\n      <td>중국 CNY</td>\n      <td>172.62</td>\n      <td>181.25</td>\n      <td>163.99</td>\n      <td>174.34</td>\n      <td>170.90</td>\n      <td>0.140</td>\n    </tr>\n    <tr>\n      <th>4</th>\n      <td>홍콩 HKD</td>\n      <td>159.62</td>\n      <td>162.76</td>\n      <td>156.48</td>\n      <td>161.21</td>\n      <td>158.03</td>\n      <td>0.129</td>\n    </tr>\n  </tbody>\n</table>\n</div>"
     },
     "metadata": {},
     "execution_count": 23
    }
   ],
   "source": [
    "df = df_list[0]\n",
    "print(df.shape)\n",
    "df.head()"
   ]
  },
  {
   "cell_type": "code",
   "execution_count": 26,
   "metadata": {},
   "outputs": [
    {
     "output_type": "execute_result",
     "data": {
      "text/plain": "             통화명    매매기준율  현찰 - 사실 때  현찰 - 파실 때  송금 - 보내실 때  송금 - 받으실 때  미화환상율\n0         미국 USD  1237.50    1259.15    1215.85     1249.60     1225.40  1.000\n1       유럽연합 EUR  1373.25    1400.57    1345.93     1386.98     1359.52  1.110\n2  일본 JPY (100엔)  1154.65    1174.85    1134.45     1165.96     1143.34  0.933\n3         중국 CNY   172.62     181.25     163.99      174.34      170.90  0.140\n4         홍콩 HKD   159.62     162.76     156.48      161.21      158.03  0.129",
      "text/html": "<div>\n<style scoped>\n    .dataframe tbody tr th:only-of-type {\n        vertical-align: middle;\n    }\n\n    .dataframe tbody tr th {\n        vertical-align: top;\n    }\n\n    .dataframe thead th {\n        text-align: right;\n    }\n</style>\n<table border=\"1\" class=\"dataframe\">\n  <thead>\n    <tr style=\"text-align: right;\">\n      <th></th>\n      <th>통화명</th>\n      <th>매매기준율</th>\n      <th>현찰 - 사실 때</th>\n      <th>현찰 - 파실 때</th>\n      <th>송금 - 보내실 때</th>\n      <th>송금 - 받으실 때</th>\n      <th>미화환상율</th>\n    </tr>\n  </thead>\n  <tbody>\n    <tr>\n      <th>0</th>\n      <td>미국 USD</td>\n      <td>1237.50</td>\n      <td>1259.15</td>\n      <td>1215.85</td>\n      <td>1249.60</td>\n      <td>1225.40</td>\n      <td>1.000</td>\n    </tr>\n    <tr>\n      <th>1</th>\n      <td>유럽연합 EUR</td>\n      <td>1373.25</td>\n      <td>1400.57</td>\n      <td>1345.93</td>\n      <td>1386.98</td>\n      <td>1359.52</td>\n      <td>1.110</td>\n    </tr>\n    <tr>\n      <th>2</th>\n      <td>일본 JPY (100엔)</td>\n      <td>1154.65</td>\n      <td>1174.85</td>\n      <td>1134.45</td>\n      <td>1165.96</td>\n      <td>1143.34</td>\n      <td>0.933</td>\n    </tr>\n    <tr>\n      <th>3</th>\n      <td>중국 CNY</td>\n      <td>172.62</td>\n      <td>181.25</td>\n      <td>163.99</td>\n      <td>174.34</td>\n      <td>170.90</td>\n      <td>0.140</td>\n    </tr>\n    <tr>\n      <th>4</th>\n      <td>홍콩 HKD</td>\n      <td>159.62</td>\n      <td>162.76</td>\n      <td>156.48</td>\n      <td>161.21</td>\n      <td>158.03</td>\n      <td>0.129</td>\n    </tr>\n  </tbody>\n</table>\n</div>"
     },
     "metadata": {},
     "execution_count": 26
    }
   ],
   "source": [
    "df.columns = [\n",
    "    '통화명',\n",
    "    '매매기준율',\n",
    "    '현찰 - 사실 때',\n",
    "    '현찰 - 파실 때',\n",
    "    '송금 - 보내실 때',\n",
    "    '송금 - 받으실 때',\n",
    "    '미화환상율'\n",
    "]\n",
    "df.head()"
   ]
  },
  {
   "cell_type": "code",
   "execution_count": 31,
   "metadata": {},
   "outputs": [
    {
     "output_type": "error",
     "ename": "KeyError",
     "evalue": "\"None of ['통화명'] are in the columns\"",
     "traceback": [
      "\u001b[1;31m---------------------------------------------------------------------------\u001b[0m",
      "\u001b[1;31mKeyError\u001b[0m                                  Traceback (most recent call last)",
      "\u001b[1;32m<ipython-input-31-9c2d8ae0cbf6>\u001b[0m in \u001b[0;36m<module>\u001b[1;34m\u001b[0m\n\u001b[1;32m----> 1\u001b[1;33m \u001b[0mdf\u001b[0m \u001b[1;33m=\u001b[0m \u001b[0mdf\u001b[0m\u001b[1;33m.\u001b[0m\u001b[0mset_index\u001b[0m\u001b[1;33m(\u001b[0m\u001b[1;34m'통화명'\u001b[0m\u001b[1;33m)\u001b[0m\u001b[1;33m\u001b[0m\u001b[1;33m\u001b[0m\u001b[0m\n\u001b[0m\u001b[0;32m      2\u001b[0m \u001b[0mdf\u001b[0m\u001b[1;33m.\u001b[0m\u001b[0mhead\u001b[0m\u001b[1;33m(\u001b[0m\u001b[1;33m)\u001b[0m\u001b[1;33m\u001b[0m\u001b[1;33m\u001b[0m\u001b[0m\n",
      "\u001b[1;32mD:\\Work\\Dev\\Anaconda3\\lib\\site-packages\\pandas\\core\\frame.py\u001b[0m in \u001b[0;36mset_index\u001b[1;34m(self, keys, drop, append, inplace, verify_integrity)\u001b[0m\n\u001b[0;32m   4301\u001b[0m \u001b[1;33m\u001b[0m\u001b[0m\n\u001b[0;32m   4302\u001b[0m         \u001b[1;32mif\u001b[0m \u001b[0mmissing\u001b[0m\u001b[1;33m:\u001b[0m\u001b[1;33m\u001b[0m\u001b[1;33m\u001b[0m\u001b[0m\n\u001b[1;32m-> 4303\u001b[1;33m             \u001b[1;32mraise\u001b[0m \u001b[0mKeyError\u001b[0m\u001b[1;33m(\u001b[0m\u001b[1;34mf\"None of {missing} are in the columns\"\u001b[0m\u001b[1;33m)\u001b[0m\u001b[1;33m\u001b[0m\u001b[1;33m\u001b[0m\u001b[0m\n\u001b[0m\u001b[0;32m   4304\u001b[0m \u001b[1;33m\u001b[0m\u001b[0m\n\u001b[0;32m   4305\u001b[0m         \u001b[1;32mif\u001b[0m \u001b[0minplace\u001b[0m\u001b[1;33m:\u001b[0m\u001b[1;33m\u001b[0m\u001b[1;33m\u001b[0m\u001b[0m\n",
      "\u001b[1;31mKeyError\u001b[0m: \"None of ['통화명'] are in the columns\""
     ]
    }
   ],
   "source": [
    "df = df.set_index('통화명')"
   ]
  },
  {
   "cell_type": "code",
   "execution_count": 33,
   "metadata": {},
   "outputs": [
    {
     "output_type": "execute_result",
     "data": {
      "text/plain": "                 매매기준율  현찰 - 사실 때  현찰 - 파실 때  송금 - 보내실 때  송금 - 받으실 때  미화환상율\n통화명                                                                        \n미국 USD         1237.50    1259.15    1215.85     1249.60     1225.40  1.000\n유럽연합 EUR       1373.25    1400.57    1345.93     1386.98     1359.52  1.110\n일본 JPY (100엔)  1154.65    1174.85    1134.45     1165.96     1143.34  0.933\n중국 CNY          172.62     181.25     163.99      174.34      170.90  0.140\n홍콩 HKD          159.62     162.76     156.48      161.21      158.03  0.129",
      "text/html": "<div>\n<style scoped>\n    .dataframe tbody tr th:only-of-type {\n        vertical-align: middle;\n    }\n\n    .dataframe tbody tr th {\n        vertical-align: top;\n    }\n\n    .dataframe thead th {\n        text-align: right;\n    }\n</style>\n<table border=\"1\" class=\"dataframe\">\n  <thead>\n    <tr style=\"text-align: right;\">\n      <th></th>\n      <th>매매기준율</th>\n      <th>현찰 - 사실 때</th>\n      <th>현찰 - 파실 때</th>\n      <th>송금 - 보내실 때</th>\n      <th>송금 - 받으실 때</th>\n      <th>미화환상율</th>\n    </tr>\n    <tr>\n      <th>통화명</th>\n      <th></th>\n      <th></th>\n      <th></th>\n      <th></th>\n      <th></th>\n      <th></th>\n    </tr>\n  </thead>\n  <tbody>\n    <tr>\n      <th>미국 USD</th>\n      <td>1237.50</td>\n      <td>1259.15</td>\n      <td>1215.85</td>\n      <td>1249.60</td>\n      <td>1225.40</td>\n      <td>1.000</td>\n    </tr>\n    <tr>\n      <th>유럽연합 EUR</th>\n      <td>1373.25</td>\n      <td>1400.57</td>\n      <td>1345.93</td>\n      <td>1386.98</td>\n      <td>1359.52</td>\n      <td>1.110</td>\n    </tr>\n    <tr>\n      <th>일본 JPY (100엔)</th>\n      <td>1154.65</td>\n      <td>1174.85</td>\n      <td>1134.45</td>\n      <td>1165.96</td>\n      <td>1143.34</td>\n      <td>0.933</td>\n    </tr>\n    <tr>\n      <th>중국 CNY</th>\n      <td>172.62</td>\n      <td>181.25</td>\n      <td>163.99</td>\n      <td>174.34</td>\n      <td>170.90</td>\n      <td>0.140</td>\n    </tr>\n    <tr>\n      <th>홍콩 HKD</th>\n      <td>159.62</td>\n      <td>162.76</td>\n      <td>156.48</td>\n      <td>161.21</td>\n      <td>158.03</td>\n      <td>0.129</td>\n    </tr>\n  </tbody>\n</table>\n</div>"
     },
     "metadata": {},
     "execution_count": 33
    }
   ],
   "source": [
    "df.head()"
   ]
  },
  {
   "cell_type": "code",
   "execution_count": 34,
   "metadata": {},
   "outputs": [],
   "source": [
    "xw.view(df, xw.sheets.active)"
   ]
  },
  {
   "cell_type": "code",
   "execution_count": 39,
   "metadata": {},
   "outputs": [
    {
     "output_type": "execute_result",
     "data": {
      "text/plain": "[['통화명', '매매기준율', '현찰 - 사실 때', '현찰 - 파실 때'],\n ['미국 USD', 1237.5, 1259.15, 1215.85],\n ['유럽연합 EUR', 1373.25, 1400.57, 1345.93],\n ['일본 JPY (100엔)', 1154.65, 1174.85, 1134.45],\n ['중국 CNY', 172.62, 181.25, 163.99],\n ['홍콩 HKD', 159.62, 162.76, 156.48],\n ['대만 TWD', 41.21, 46.6, 38.33]]"
     },
     "metadata": {},
     "execution_count": 39
    }
   ],
   "source": [
    "xw.Range('A1:D7').value"
   ]
  },
  {
   "cell_type": "code",
   "execution_count": 41,
   "metadata": {},
   "outputs": [
    {
     "output_type": "execute_result",
     "data": {
      "text/plain": "<Range [통합 문서1]Sheet1!$A$1:$G$45>"
     },
     "metadata": {},
     "execution_count": 41
    }
   ],
   "source": [
    "xw.Range('A1').expand('table')"
   ]
  },
  {
   "cell_type": "code",
   "execution_count": 43,
   "metadata": {},
   "outputs": [
    {
     "output_type": "execute_result",
     "data": {
      "text/plain": "<Range [통합 문서1]Sheet1!$A$1:$G$1>"
     },
     "metadata": {},
     "execution_count": 43
    }
   ],
   "source": [
    "xw.Range('A1').expand('right')"
   ]
  },
  {
   "cell_type": "code",
   "execution_count": 45,
   "metadata": {},
   "outputs": [
    {
     "output_type": "execute_result",
     "data": {
      "text/plain": "<Range [통합 문서1]Sheet1!$A$1:$A$45>"
     },
     "metadata": {},
     "execution_count": 45
    }
   ],
   "source": [
    "xw.Range('A1').expand('down')"
   ]
  },
  {
   "cell_type": "code",
   "execution_count": null,
   "metadata": {},
   "outputs": [],
   "source": []
  }
 ],
 "metadata": {
  "language_info": {
   "codemirror_mode": {
    "name": "ipython",
    "version": 3
   },
   "file_extension": ".py",
   "mimetype": "text/x-python",
   "name": "python",
   "nbconvert_exporter": "python",
   "pygments_lexer": "ipython3",
   "version": "3.7.6-final"
  },
  "orig_nbformat": 2,
  "kernelspec": {
   "name": "python3",
   "display_name": "Python 3"
  }
 },
 "nbformat": 4,
 "nbformat_minor": 2
}