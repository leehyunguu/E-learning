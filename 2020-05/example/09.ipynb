{
 "cells": [
  {
   "cell_type": "code",
   "execution_count": 1,
   "metadata": {},
   "outputs": [],
   "source": [
    "import pandas as pd\n",
    "import xlwings as xw"
   ]
  },
  {
   "cell_type": "code",
   "execution_count": 10,
   "metadata": {},
   "outputs": [
    {
     "output_type": "stream",
     "name": "stdout",
     "text": "(100, 4)\n"
    },
    {
     "output_type": "execute_result",
     "data": {
      "text/plain": "                      album_name               artist_name  \\\nid                                                           \n31093710        Red Diary Page.2                    볼빨간사춘기   \n31085237  LOVE YOURSELF 轉 `Tear`                     방탄소년단   \n31113240       1÷χ=1 (UNDIVIDED)           Wanna One (워너원)   \n31113241       1÷χ=1 (UNDIVIDED)  Wanna One (워너원) - 트리플포지션   \n31113243       1÷χ=1 (UNDIVIDED)      Wanna One (워너원) - 더힐   \n\n                                 name     좋아요  \nid                                             \n31093710                           여행  124968  \n31085237                    FAKE LOVE  200654  \n31113240                   켜줘 (Light)   93035  \n31113241  캥거루 (Kangaroo) (Prod. ZICO)   79320  \n31113243             모래시계 (Prod. 헤이즈)   67872  ",
      "text/html": "<div>\n<style scoped>\n    .dataframe tbody tr th:only-of-type {\n        vertical-align: middle;\n    }\n\n    .dataframe tbody tr th {\n        vertical-align: top;\n    }\n\n    .dataframe thead th {\n        text-align: right;\n    }\n</style>\n<table border=\"1\" class=\"dataframe\">\n  <thead>\n    <tr style=\"text-align: right;\">\n      <th></th>\n      <th>album_name</th>\n      <th>artist_name</th>\n      <th>name</th>\n      <th>좋아요</th>\n    </tr>\n    <tr>\n      <th>id</th>\n      <th></th>\n      <th></th>\n      <th></th>\n      <th></th>\n    </tr>\n  </thead>\n  <tbody>\n    <tr>\n      <th>31093710</th>\n      <td>Red Diary Page.2</td>\n      <td>볼빨간사춘기</td>\n      <td>여행</td>\n      <td>124968</td>\n    </tr>\n    <tr>\n      <th>31085237</th>\n      <td>LOVE YOURSELF 轉 `Tear`</td>\n      <td>방탄소년단</td>\n      <td>FAKE LOVE</td>\n      <td>200654</td>\n    </tr>\n    <tr>\n      <th>31113240</th>\n      <td>1÷χ=1 (UNDIVIDED)</td>\n      <td>Wanna One (워너원)</td>\n      <td>켜줘 (Light)</td>\n      <td>93035</td>\n    </tr>\n    <tr>\n      <th>31113241</th>\n      <td>1÷χ=1 (UNDIVIDED)</td>\n      <td>Wanna One (워너원) - 트리플포지션</td>\n      <td>캥거루 (Kangaroo) (Prod. ZICO)</td>\n      <td>79320</td>\n    </tr>\n    <tr>\n      <th>31113243</th>\n      <td>1÷χ=1 (UNDIVIDED)</td>\n      <td>Wanna One (워너원) - 더힐</td>\n      <td>모래시계 (Prod. 헤이즈)</td>\n      <td>67872</td>\n    </tr>\n  </tbody>\n</table>\n</div>"
     },
     "metadata": {},
     "execution_count": 10
    }
   ],
   "source": [
    "df = pd.read_excel('data/top100.xlsx', index_col='id')\n",
    "print(df.shape)\n",
    "df.head()"
   ]
  },
  {
   "cell_type": "code",
   "execution_count": 11,
   "metadata": {},
   "outputs": [
    {
     "output_type": "execute_result",
     "data": {
      "text/plain": "                      album_name               artist_name  \\\nid                                                           \n31093710        Red Diary Page.2                    볼빨간사춘기   \n31085237  LOVE YOURSELF 轉 `Tear`                     방탄소년단   \n31113240       1÷χ=1 (UNDIVIDED)           Wanna One (워너원)   \n31113241       1÷χ=1 (UNDIVIDED)  Wanna One (워너원) - 트리플포지션   \n31113243       1÷χ=1 (UNDIVIDED)      Wanna One (워너원) - 더힐   \n\n                                 name     좋아요  테스트컬럼  \nid                                                    \n31093710                           여행  124968     10  \n31085237                    FAKE LOVE  200654     10  \n31113240                   켜줘 (Light)   93035     10  \n31113241  캥거루 (Kangaroo) (Prod. ZICO)   79320     10  \n31113243             모래시계 (Prod. 헤이즈)   67872     10  ",
      "text/html": "<div>\n<style scoped>\n    .dataframe tbody tr th:only-of-type {\n        vertical-align: middle;\n    }\n\n    .dataframe tbody tr th {\n        vertical-align: top;\n    }\n\n    .dataframe thead th {\n        text-align: right;\n    }\n</style>\n<table border=\"1\" class=\"dataframe\">\n  <thead>\n    <tr style=\"text-align: right;\">\n      <th></th>\n      <th>album_name</th>\n      <th>artist_name</th>\n      <th>name</th>\n      <th>좋아요</th>\n      <th>테스트컬럼</th>\n    </tr>\n    <tr>\n      <th>id</th>\n      <th></th>\n      <th></th>\n      <th></th>\n      <th></th>\n      <th></th>\n    </tr>\n  </thead>\n  <tbody>\n    <tr>\n      <th>31093710</th>\n      <td>Red Diary Page.2</td>\n      <td>볼빨간사춘기</td>\n      <td>여행</td>\n      <td>124968</td>\n      <td>10</td>\n    </tr>\n    <tr>\n      <th>31085237</th>\n      <td>LOVE YOURSELF 轉 `Tear`</td>\n      <td>방탄소년단</td>\n      <td>FAKE LOVE</td>\n      <td>200654</td>\n      <td>10</td>\n    </tr>\n    <tr>\n      <th>31113240</th>\n      <td>1÷χ=1 (UNDIVIDED)</td>\n      <td>Wanna One (워너원)</td>\n      <td>켜줘 (Light)</td>\n      <td>93035</td>\n      <td>10</td>\n    </tr>\n    <tr>\n      <th>31113241</th>\n      <td>1÷χ=1 (UNDIVIDED)</td>\n      <td>Wanna One (워너원) - 트리플포지션</td>\n      <td>캥거루 (Kangaroo) (Prod. ZICO)</td>\n      <td>79320</td>\n      <td>10</td>\n    </tr>\n    <tr>\n      <th>31113243</th>\n      <td>1÷χ=1 (UNDIVIDED)</td>\n      <td>Wanna One (워너원) - 더힐</td>\n      <td>모래시계 (Prod. 헤이즈)</td>\n      <td>67872</td>\n      <td>10</td>\n    </tr>\n  </tbody>\n</table>\n</div>"
     },
     "metadata": {},
     "execution_count": 11
    }
   ],
   "source": [
    "df['테스트컬럼'] = 10\n",
    "df.head()"
   ]
  },
  {
   "cell_type": "code",
   "execution_count": 12,
   "metadata": {},
   "outputs": [
    {
     "output_type": "execute_result",
     "data": {
      "text/plain": "                      album_name               artist_name  \\\nid                                                           \n31093710        Red Diary Page.2                    볼빨간사춘기   \n31085237  LOVE YOURSELF 轉 `Tear`                     방탄소년단   \n31113240       1÷χ=1 (UNDIVIDED)           Wanna One (워너원)   \n31113241       1÷χ=1 (UNDIVIDED)  Wanna One (워너원) - 트리플포지션   \n31113243       1÷χ=1 (UNDIVIDED)      Wanna One (워너원) - 더힐   \n\n                                 name     좋아요  테스트컬럼  \nid                                                    \n31093710                           여행  124968      1  \n31085237                    FAKE LOVE  200654      2  \n31113240                   켜줘 (Light)   93035      3  \n31113241  캥거루 (Kangaroo) (Prod. ZICO)   79320      4  \n31113243             모래시계 (Prod. 헤이즈)   67872      5  ",
      "text/html": "<div>\n<style scoped>\n    .dataframe tbody tr th:only-of-type {\n        vertical-align: middle;\n    }\n\n    .dataframe tbody tr th {\n        vertical-align: top;\n    }\n\n    .dataframe thead th {\n        text-align: right;\n    }\n</style>\n<table border=\"1\" class=\"dataframe\">\n  <thead>\n    <tr style=\"text-align: right;\">\n      <th></th>\n      <th>album_name</th>\n      <th>artist_name</th>\n      <th>name</th>\n      <th>좋아요</th>\n      <th>테스트컬럼</th>\n    </tr>\n    <tr>\n      <th>id</th>\n      <th></th>\n      <th></th>\n      <th></th>\n      <th></th>\n      <th></th>\n    </tr>\n  </thead>\n  <tbody>\n    <tr>\n      <th>31093710</th>\n      <td>Red Diary Page.2</td>\n      <td>볼빨간사춘기</td>\n      <td>여행</td>\n      <td>124968</td>\n      <td>1</td>\n    </tr>\n    <tr>\n      <th>31085237</th>\n      <td>LOVE YOURSELF 轉 `Tear`</td>\n      <td>방탄소년단</td>\n      <td>FAKE LOVE</td>\n      <td>200654</td>\n      <td>2</td>\n    </tr>\n    <tr>\n      <th>31113240</th>\n      <td>1÷χ=1 (UNDIVIDED)</td>\n      <td>Wanna One (워너원)</td>\n      <td>켜줘 (Light)</td>\n      <td>93035</td>\n      <td>3</td>\n    </tr>\n    <tr>\n      <th>31113241</th>\n      <td>1÷χ=1 (UNDIVIDED)</td>\n      <td>Wanna One (워너원) - 트리플포지션</td>\n      <td>캥거루 (Kangaroo) (Prod. ZICO)</td>\n      <td>79320</td>\n      <td>4</td>\n    </tr>\n    <tr>\n      <th>31113243</th>\n      <td>1÷χ=1 (UNDIVIDED)</td>\n      <td>Wanna One (워너원) - 더힐</td>\n      <td>모래시계 (Prod. 헤이즈)</td>\n      <td>67872</td>\n      <td>5</td>\n    </tr>\n  </tbody>\n</table>\n</div>"
     },
     "metadata": {},
     "execution_count": 12
    }
   ],
   "source": [
    "df['테스트컬럼'] = range(1, 101, 1)\n",
    "df.head()"
   ]
  },
  {
   "cell_type": "code",
   "execution_count": 13,
   "metadata": {},
   "outputs": [
    {
     "output_type": "execute_result",
     "data": {
      "text/plain": "                                         album_name    artist_name  \\\nid                                                                   \n31123659  `The Story of Light` EP.2 - The 6th Album   SHINee (샤이니)   \n30086173                        LIFE IS BEAUTY FULL  문문 (MoonMoon)   \n30383758                          종현 소품집 `이야기 Op.2`  종현 (JONGHYUN)   \n30481578                                      마지막처럼      BLACKPINK   \n30380953               Illuminate (New Deluxe Ver.)   Shawn Mendes   \n\n                                     name     좋아요  테스트컬럼  \nid                                                        \n31123659          독감 (Who Waits For Love)   12730     96  \n30086173                              비행운  202347     97  \n30383758                Lonely (Feat. 태연)  180606     98  \n30481578                            마지막처럼  159147     99  \n30380953  There`s Nothing Holdin` Me Back  107309    100  ",
      "text/html": "<div>\n<style scoped>\n    .dataframe tbody tr th:only-of-type {\n        vertical-align: middle;\n    }\n\n    .dataframe tbody tr th {\n        vertical-align: top;\n    }\n\n    .dataframe thead th {\n        text-align: right;\n    }\n</style>\n<table border=\"1\" class=\"dataframe\">\n  <thead>\n    <tr style=\"text-align: right;\">\n      <th></th>\n      <th>album_name</th>\n      <th>artist_name</th>\n      <th>name</th>\n      <th>좋아요</th>\n      <th>테스트컬럼</th>\n    </tr>\n    <tr>\n      <th>id</th>\n      <th></th>\n      <th></th>\n      <th></th>\n      <th></th>\n      <th></th>\n    </tr>\n  </thead>\n  <tbody>\n    <tr>\n      <th>31123659</th>\n      <td>`The Story of Light` EP.2 - The 6th Album</td>\n      <td>SHINee (샤이니)</td>\n      <td>독감 (Who Waits For Love)</td>\n      <td>12730</td>\n      <td>96</td>\n    </tr>\n    <tr>\n      <th>30086173</th>\n      <td>LIFE IS BEAUTY FULL</td>\n      <td>문문 (MoonMoon)</td>\n      <td>비행운</td>\n      <td>202347</td>\n      <td>97</td>\n    </tr>\n    <tr>\n      <th>30383758</th>\n      <td>종현 소품집 `이야기 Op.2`</td>\n      <td>종현 (JONGHYUN)</td>\n      <td>Lonely (Feat. 태연)</td>\n      <td>180606</td>\n      <td>98</td>\n    </tr>\n    <tr>\n      <th>30481578</th>\n      <td>마지막처럼</td>\n      <td>BLACKPINK</td>\n      <td>마지막처럼</td>\n      <td>159147</td>\n      <td>99</td>\n    </tr>\n    <tr>\n      <th>30380953</th>\n      <td>Illuminate (New Deluxe Ver.)</td>\n      <td>Shawn Mendes</td>\n      <td>There`s Nothing Holdin` Me Back</td>\n      <td>107309</td>\n      <td>100</td>\n    </tr>\n  </tbody>\n</table>\n</div>"
     },
     "metadata": {},
     "execution_count": 13
    }
   ],
   "source": [
    "df.tail()"
   ]
  },
  {
   "cell_type": "code",
   "execution_count": 14,
   "metadata": {},
   "outputs": [
    {
     "output_type": "stream",
     "text": "\u001b[1;31mSignature:\u001b[0m\n\u001b[0mdf\u001b[0m\u001b[1;33m.\u001b[0m\u001b[0mdrop\u001b[0m\u001b[1;33m(\u001b[0m\u001b[1;33m\n\u001b[0m    \u001b[0mlabels\u001b[0m\u001b[1;33m=\u001b[0m\u001b[1;32mNone\u001b[0m\u001b[1;33m,\u001b[0m\u001b[1;33m\n\u001b[0m    \u001b[0maxis\u001b[0m\u001b[1;33m=\u001b[0m\u001b[1;36m0\u001b[0m\u001b[1;33m,\u001b[0m\u001b[1;33m\n\u001b[0m    \u001b[0mindex\u001b[0m\u001b[1;33m=\u001b[0m\u001b[1;32mNone\u001b[0m\u001b[1;33m,\u001b[0m\u001b[1;33m\n\u001b[0m    \u001b[0mcolumns\u001b[0m\u001b[1;33m=\u001b[0m\u001b[1;32mNone\u001b[0m\u001b[1;33m,\u001b[0m\u001b[1;33m\n\u001b[0m    \u001b[0mlevel\u001b[0m\u001b[1;33m=\u001b[0m\u001b[1;32mNone\u001b[0m\u001b[1;33m,\u001b[0m\u001b[1;33m\n\u001b[0m    \u001b[0minplace\u001b[0m\u001b[1;33m=\u001b[0m\u001b[1;32mFalse\u001b[0m\u001b[1;33m,\u001b[0m\u001b[1;33m\n\u001b[0m    \u001b[0merrors\u001b[0m\u001b[1;33m=\u001b[0m\u001b[1;34m'raise'\u001b[0m\u001b[1;33m,\u001b[0m\u001b[1;33m\n\u001b[0m\u001b[1;33m)\u001b[0m\u001b[1;33m\u001b[0m\u001b[1;33m\u001b[0m\u001b[0m\n\u001b[1;31mDocstring:\u001b[0m\nDrop specified labels from rows or columns.\n\nRemove rows or columns by specifying label names and corresponding\naxis, or by specifying directly index or column names. When using a\nmulti-index, labels on different levels can be removed by specifying\nthe level.\n\nParameters\n----------\nlabels : single label or list-like\n    Index or column labels to drop.\naxis : {0 or 'index', 1 or 'columns'}, default 0\n    Whether to drop labels from the index (0 or 'index') or\n    columns (1 or 'columns').\nindex : single label or list-like\n    Alternative to specifying axis (``labels, axis=0``\n    is equivalent to ``index=labels``).\n\n    .. versionadded:: 0.21.0\ncolumns : single label or list-like\n    Alternative to specifying axis (``labels, axis=1``\n    is equivalent to ``columns=labels``).\n\n    .. versionadded:: 0.21.0\nlevel : int or level name, optional\n    For MultiIndex, level from which the labels will be removed.\ninplace : bool, default False\n    If True, do operation inplace and return None.\nerrors : {'ignore', 'raise'}, default 'raise'\n    If 'ignore', suppress error and only existing labels are\n    dropped.\n\nReturns\n-------\nDataFrame\n    DataFrame without the removed index or column labels.\n\nRaises\n------\nKeyError\n    If any of the labels is not found in the selected axis.\n\nSee Also\n--------\nDataFrame.loc : Label-location based indexer for selection by label.\nDataFrame.dropna : Return DataFrame with labels on given axis omitted\n    where (all or any) data are missing.\nDataFrame.drop_duplicates : Return DataFrame with duplicate rows\n    removed, optionally only considering certain columns.\nSeries.drop : Return Series with specified index labels removed.\n\nExamples\n--------\n>>> df = pd.DataFrame(np.arange(12).reshape(3, 4),\n...                   columns=['A', 'B', 'C', 'D'])\n>>> df\n   A  B   C   D\n0  0  1   2   3\n1  4  5   6   7\n2  8  9  10  11\n\nDrop columns\n\n>>> df.drop(['B', 'C'], axis=1)\n   A   D\n0  0   3\n1  4   7\n2  8  11\n\n>>> df.drop(columns=['B', 'C'])\n   A   D\n0  0   3\n1  4   7\n2  8  11\n\nDrop a row by index\n\n>>> df.drop([0, 1])\n   A  B   C   D\n2  8  9  10  11\n\nDrop columns and/or rows of MultiIndex DataFrame\n\n>>> midx = pd.MultiIndex(levels=[['lama', 'cow', 'falcon'],\n...                              ['speed', 'weight', 'length']],\n...                      codes=[[0, 0, 0, 1, 1, 1, 2, 2, 2],\n...                             [0, 1, 2, 0, 1, 2, 0, 1, 2]])\n>>> df = pd.DataFrame(index=midx, columns=['big', 'small'],\n...                   data=[[45, 30], [200, 100], [1.5, 1], [30, 20],\n...                         [250, 150], [1.5, 0.8], [320, 250],\n...                         [1, 0.8], [0.3, 0.2]])\n>>> df\n                big     small\nlama    speed   45.0    30.0\n        weight  200.0   100.0\n        length  1.5     1.0\ncow     speed   30.0    20.0\n        weight  250.0   150.0\n        length  1.5     0.8\nfalcon  speed   320.0   250.0\n        weight  1.0     0.8\n        length  0.3     0.2\n\n>>> df.drop(index='cow', columns='small')\n                big\nlama    speed   45.0\n        weight  200.0\n        length  1.5\nfalcon  speed   320.0\n        weight  1.0\n        length  0.3\n\n>>> df.drop(index='length', level=1)\n                big     small\nlama    speed   45.0    30.0\n        weight  200.0   100.0\ncow     speed   30.0    20.0\n        weight  250.0   150.0\nfalcon  speed   320.0   250.0\n        weight  1.0     0.8\n\u001b[1;31mFile:\u001b[0m      d:\\work\\dev\\anaconda3\\lib\\site-packages\\pandas\\core\\frame.py\n\u001b[1;31mType:\u001b[0m      method\n"
    }
   ],
   "source": [
    "df.drop?"
   ]
  },
  {
   "cell_type": "code",
   "execution_count": 15,
   "metadata": {},
   "outputs": [
    {
     "output_type": "execute_result",
     "data": {
      "text/plain": "                            album_name               artist_name  \\\nid                                                                 \n31093710              Red Diary Page.2                    볼빨간사춘기   \n31085237        LOVE YOURSELF 轉 `Tear`                     방탄소년단   \n31113240             1÷χ=1 (UNDIVIDED)           Wanna One (워너원)   \n31113241             1÷χ=1 (UNDIVIDED)  Wanna One (워너원) - 트리플포지션   \n31113243             1÷χ=1 (UNDIVIDED)      Wanna One (워너원) - 더힐   \n...                                ...                       ...   \n30985406             나의 아저씨 OST Part.2                    Sondia   \n30086173           LIFE IS BEAUTY FULL             문문 (MoonMoon)   \n30383758             종현 소품집 `이야기 Op.2`             종현 (JONGHYUN)   \n30481578                         마지막처럼                 BLACKPINK   \n30380953  Illuminate (New Deluxe Ver.)              Shawn Mendes   \n\n                                     name     좋아요  테스트컬럼  \nid                                                        \n31093710                               여행  124968      1  \n31085237                        FAKE LOVE  200654      2  \n31113240                       켜줘 (Light)   93035      3  \n31113241      캥거루 (Kangaroo) (Prod. ZICO)   79320      4  \n31113243                 모래시계 (Prod. 헤이즈)   67872      5  \n...                                   ...     ...    ...  \n30985406                               어른   47994     95  \n30086173                              비행운  202347     97  \n30383758                Lonely (Feat. 태연)  180606     98  \n30481578                            마지막처럼  159147     99  \n30380953  There`s Nothing Holdin` Me Back  107309    100  \n\n[99 rows x 5 columns]",
      "text/html": "<div>\n<style scoped>\n    .dataframe tbody tr th:only-of-type {\n        vertical-align: middle;\n    }\n\n    .dataframe tbody tr th {\n        vertical-align: top;\n    }\n\n    .dataframe thead th {\n        text-align: right;\n    }\n</style>\n<table border=\"1\" class=\"dataframe\">\n  <thead>\n    <tr style=\"text-align: right;\">\n      <th></th>\n      <th>album_name</th>\n      <th>artist_name</th>\n      <th>name</th>\n      <th>좋아요</th>\n      <th>테스트컬럼</th>\n    </tr>\n    <tr>\n      <th>id</th>\n      <th></th>\n      <th></th>\n      <th></th>\n      <th></th>\n      <th></th>\n    </tr>\n  </thead>\n  <tbody>\n    <tr>\n      <th>31093710</th>\n      <td>Red Diary Page.2</td>\n      <td>볼빨간사춘기</td>\n      <td>여행</td>\n      <td>124968</td>\n      <td>1</td>\n    </tr>\n    <tr>\n      <th>31085237</th>\n      <td>LOVE YOURSELF 轉 `Tear`</td>\n      <td>방탄소년단</td>\n      <td>FAKE LOVE</td>\n      <td>200654</td>\n      <td>2</td>\n    </tr>\n    <tr>\n      <th>31113240</th>\n      <td>1÷χ=1 (UNDIVIDED)</td>\n      <td>Wanna One (워너원)</td>\n      <td>켜줘 (Light)</td>\n      <td>93035</td>\n      <td>3</td>\n    </tr>\n    <tr>\n      <th>31113241</th>\n      <td>1÷χ=1 (UNDIVIDED)</td>\n      <td>Wanna One (워너원) - 트리플포지션</td>\n      <td>캥거루 (Kangaroo) (Prod. ZICO)</td>\n      <td>79320</td>\n      <td>4</td>\n    </tr>\n    <tr>\n      <th>31113243</th>\n      <td>1÷χ=1 (UNDIVIDED)</td>\n      <td>Wanna One (워너원) - 더힐</td>\n      <td>모래시계 (Prod. 헤이즈)</td>\n      <td>67872</td>\n      <td>5</td>\n    </tr>\n    <tr>\n      <th>...</th>\n      <td>...</td>\n      <td>...</td>\n      <td>...</td>\n      <td>...</td>\n      <td>...</td>\n    </tr>\n    <tr>\n      <th>30985406</th>\n      <td>나의 아저씨 OST Part.2</td>\n      <td>Sondia</td>\n      <td>어른</td>\n      <td>47994</td>\n      <td>95</td>\n    </tr>\n    <tr>\n      <th>30086173</th>\n      <td>LIFE IS BEAUTY FULL</td>\n      <td>문문 (MoonMoon)</td>\n      <td>비행운</td>\n      <td>202347</td>\n      <td>97</td>\n    </tr>\n    <tr>\n      <th>30383758</th>\n      <td>종현 소품집 `이야기 Op.2`</td>\n      <td>종현 (JONGHYUN)</td>\n      <td>Lonely (Feat. 태연)</td>\n      <td>180606</td>\n      <td>98</td>\n    </tr>\n    <tr>\n      <th>30481578</th>\n      <td>마지막처럼</td>\n      <td>BLACKPINK</td>\n      <td>마지막처럼</td>\n      <td>159147</td>\n      <td>99</td>\n    </tr>\n    <tr>\n      <th>30380953</th>\n      <td>Illuminate (New Deluxe Ver.)</td>\n      <td>Shawn Mendes</td>\n      <td>There`s Nothing Holdin` Me Back</td>\n      <td>107309</td>\n      <td>100</td>\n    </tr>\n  </tbody>\n</table>\n<p>99 rows × 5 columns</p>\n</div>"
     },
     "metadata": {},
     "execution_count": 15
    }
   ],
   "source": [
    "df.drop(31123659)"
   ]
  },
  {
   "cell_type": "code",
   "execution_count": 17,
   "metadata": {},
   "outputs": [
    {
     "output_type": "error",
     "ename": "KeyError",
     "evalue": "'[31123659] not found in axis'",
     "traceback": [
      "\u001b[1;31m---------------------------------------------------------------------------\u001b[0m",
      "\u001b[1;31mKeyError\u001b[0m                                  Traceback (most recent call last)",
      "\u001b[1;32m<ipython-input-17-cb496343c380>\u001b[0m in \u001b[0;36m<module>\u001b[1;34m\u001b[0m\n\u001b[1;32m----> 1\u001b[1;33m \u001b[0mdf\u001b[0m\u001b[1;33m.\u001b[0m\u001b[0mdrop\u001b[0m\u001b[1;33m(\u001b[0m\u001b[1;36m31123659\u001b[0m\u001b[1;33m,\u001b[0m \u001b[0minplace\u001b[0m\u001b[1;33m=\u001b[0m\u001b[1;32mTrue\u001b[0m\u001b[1;33m)\u001b[0m\u001b[1;33m\u001b[0m\u001b[1;33m\u001b[0m\u001b[0m\n\u001b[0m\u001b[0;32m      2\u001b[0m \u001b[0mdf\u001b[0m\u001b[1;33m\u001b[0m\u001b[1;33m\u001b[0m\u001b[0m\n",
      "\u001b[1;32mD:\\Work\\Dev\\Anaconda3\\lib\\site-packages\\pandas\\core\\frame.py\u001b[0m in \u001b[0;36mdrop\u001b[1;34m(self, labels, axis, index, columns, level, inplace, errors)\u001b[0m\n\u001b[0;32m   3995\u001b[0m             \u001b[0mlevel\u001b[0m\u001b[1;33m=\u001b[0m\u001b[0mlevel\u001b[0m\u001b[1;33m,\u001b[0m\u001b[1;33m\u001b[0m\u001b[1;33m\u001b[0m\u001b[0m\n\u001b[0;32m   3996\u001b[0m             \u001b[0minplace\u001b[0m\u001b[1;33m=\u001b[0m\u001b[0minplace\u001b[0m\u001b[1;33m,\u001b[0m\u001b[1;33m\u001b[0m\u001b[1;33m\u001b[0m\u001b[0m\n\u001b[1;32m-> 3997\u001b[1;33m             \u001b[0merrors\u001b[0m\u001b[1;33m=\u001b[0m\u001b[0merrors\u001b[0m\u001b[1;33m,\u001b[0m\u001b[1;33m\u001b[0m\u001b[1;33m\u001b[0m\u001b[0m\n\u001b[0m\u001b[0;32m   3998\u001b[0m         )\n\u001b[0;32m   3999\u001b[0m \u001b[1;33m\u001b[0m\u001b[0m\n",
      "\u001b[1;32mD:\\Work\\Dev\\Anaconda3\\lib\\site-packages\\pandas\\core\\generic.py\u001b[0m in \u001b[0;36mdrop\u001b[1;34m(self, labels, axis, index, columns, level, inplace, errors)\u001b[0m\n\u001b[0;32m   3934\u001b[0m         \u001b[1;32mfor\u001b[0m \u001b[0maxis\u001b[0m\u001b[1;33m,\u001b[0m \u001b[0mlabels\u001b[0m \u001b[1;32min\u001b[0m \u001b[0maxes\u001b[0m\u001b[1;33m.\u001b[0m\u001b[0mitems\u001b[0m\u001b[1;33m(\u001b[0m\u001b[1;33m)\u001b[0m\u001b[1;33m:\u001b[0m\u001b[1;33m\u001b[0m\u001b[1;33m\u001b[0m\u001b[0m\n\u001b[0;32m   3935\u001b[0m             \u001b[1;32mif\u001b[0m \u001b[0mlabels\u001b[0m \u001b[1;32mis\u001b[0m \u001b[1;32mnot\u001b[0m \u001b[1;32mNone\u001b[0m\u001b[1;33m:\u001b[0m\u001b[1;33m\u001b[0m\u001b[1;33m\u001b[0m\u001b[0m\n\u001b[1;32m-> 3936\u001b[1;33m                 \u001b[0mobj\u001b[0m \u001b[1;33m=\u001b[0m \u001b[0mobj\u001b[0m\u001b[1;33m.\u001b[0m\u001b[0m_drop_axis\u001b[0m\u001b[1;33m(\u001b[0m\u001b[0mlabels\u001b[0m\u001b[1;33m,\u001b[0m \u001b[0maxis\u001b[0m\u001b[1;33m,\u001b[0m \u001b[0mlevel\u001b[0m\u001b[1;33m=\u001b[0m\u001b[0mlevel\u001b[0m\u001b[1;33m,\u001b[0m \u001b[0merrors\u001b[0m\u001b[1;33m=\u001b[0m\u001b[0merrors\u001b[0m\u001b[1;33m)\u001b[0m\u001b[1;33m\u001b[0m\u001b[1;33m\u001b[0m\u001b[0m\n\u001b[0m\u001b[0;32m   3937\u001b[0m \u001b[1;33m\u001b[0m\u001b[0m\n\u001b[0;32m   3938\u001b[0m         \u001b[1;32mif\u001b[0m \u001b[0minplace\u001b[0m\u001b[1;33m:\u001b[0m\u001b[1;33m\u001b[0m\u001b[1;33m\u001b[0m\u001b[0m\n",
      "\u001b[1;32mD:\\Work\\Dev\\Anaconda3\\lib\\site-packages\\pandas\\core\\generic.py\u001b[0m in \u001b[0;36m_drop_axis\u001b[1;34m(self, labels, axis, level, errors)\u001b[0m\n\u001b[0;32m   3968\u001b[0m                 \u001b[0mnew_axis\u001b[0m \u001b[1;33m=\u001b[0m \u001b[0maxis\u001b[0m\u001b[1;33m.\u001b[0m\u001b[0mdrop\u001b[0m\u001b[1;33m(\u001b[0m\u001b[0mlabels\u001b[0m\u001b[1;33m,\u001b[0m \u001b[0mlevel\u001b[0m\u001b[1;33m=\u001b[0m\u001b[0mlevel\u001b[0m\u001b[1;33m,\u001b[0m \u001b[0merrors\u001b[0m\u001b[1;33m=\u001b[0m\u001b[0merrors\u001b[0m\u001b[1;33m)\u001b[0m\u001b[1;33m\u001b[0m\u001b[1;33m\u001b[0m\u001b[0m\n\u001b[0;32m   3969\u001b[0m             \u001b[1;32melse\u001b[0m\u001b[1;33m:\u001b[0m\u001b[1;33m\u001b[0m\u001b[1;33m\u001b[0m\u001b[0m\n\u001b[1;32m-> 3970\u001b[1;33m                 \u001b[0mnew_axis\u001b[0m \u001b[1;33m=\u001b[0m \u001b[0maxis\u001b[0m\u001b[1;33m.\u001b[0m\u001b[0mdrop\u001b[0m\u001b[1;33m(\u001b[0m\u001b[0mlabels\u001b[0m\u001b[1;33m,\u001b[0m \u001b[0merrors\u001b[0m\u001b[1;33m=\u001b[0m\u001b[0merrors\u001b[0m\u001b[1;33m)\u001b[0m\u001b[1;33m\u001b[0m\u001b[1;33m\u001b[0m\u001b[0m\n\u001b[0m\u001b[0;32m   3971\u001b[0m             \u001b[0mresult\u001b[0m \u001b[1;33m=\u001b[0m \u001b[0mself\u001b[0m\u001b[1;33m.\u001b[0m\u001b[0mreindex\u001b[0m\u001b[1;33m(\u001b[0m\u001b[1;33m**\u001b[0m\u001b[1;33m{\u001b[0m\u001b[0maxis_name\u001b[0m\u001b[1;33m:\u001b[0m \u001b[0mnew_axis\u001b[0m\u001b[1;33m}\u001b[0m\u001b[1;33m)\u001b[0m\u001b[1;33m\u001b[0m\u001b[1;33m\u001b[0m\u001b[0m\n\u001b[0;32m   3972\u001b[0m \u001b[1;33m\u001b[0m\u001b[0m\n",
      "\u001b[1;32mD:\\Work\\Dev\\Anaconda3\\lib\\site-packages\\pandas\\core\\indexes\\base.py\u001b[0m in \u001b[0;36mdrop\u001b[1;34m(self, labels, errors)\u001b[0m\n\u001b[0;32m   5016\u001b[0m         \u001b[1;32mif\u001b[0m \u001b[0mmask\u001b[0m\u001b[1;33m.\u001b[0m\u001b[0many\u001b[0m\u001b[1;33m(\u001b[0m\u001b[1;33m)\u001b[0m\u001b[1;33m:\u001b[0m\u001b[1;33m\u001b[0m\u001b[1;33m\u001b[0m\u001b[0m\n\u001b[0;32m   5017\u001b[0m             \u001b[1;32mif\u001b[0m \u001b[0merrors\u001b[0m \u001b[1;33m!=\u001b[0m \u001b[1;34m\"ignore\"\u001b[0m\u001b[1;33m:\u001b[0m\u001b[1;33m\u001b[0m\u001b[1;33m\u001b[0m\u001b[0m\n\u001b[1;32m-> 5018\u001b[1;33m                 \u001b[1;32mraise\u001b[0m \u001b[0mKeyError\u001b[0m\u001b[1;33m(\u001b[0m\u001b[1;34mf\"{labels[mask]} not found in axis\"\u001b[0m\u001b[1;33m)\u001b[0m\u001b[1;33m\u001b[0m\u001b[1;33m\u001b[0m\u001b[0m\n\u001b[0m\u001b[0;32m   5019\u001b[0m             \u001b[0mindexer\u001b[0m \u001b[1;33m=\u001b[0m \u001b[0mindexer\u001b[0m\u001b[1;33m[\u001b[0m\u001b[1;33m~\u001b[0m\u001b[0mmask\u001b[0m\u001b[1;33m]\u001b[0m\u001b[1;33m\u001b[0m\u001b[1;33m\u001b[0m\u001b[0m\n\u001b[0;32m   5020\u001b[0m         \u001b[1;32mreturn\u001b[0m \u001b[0mself\u001b[0m\u001b[1;33m.\u001b[0m\u001b[0mdelete\u001b[0m\u001b[1;33m(\u001b[0m\u001b[0mindexer\u001b[0m\u001b[1;33m)\u001b[0m\u001b[1;33m\u001b[0m\u001b[1;33m\u001b[0m\u001b[0m\n",
      "\u001b[1;31mKeyError\u001b[0m: '[31123659] not found in axis'"
     ]
    }
   ],
   "source": [
    "df.drop(31123659, inplace=True)"
   ]
  },
  {
   "cell_type": "code",
   "execution_count": 18,
   "metadata": {},
   "outputs": [
    {
     "output_type": "execute_result",
     "data": {
      "text/plain": "                            album_name               artist_name  \\\nid                                                                 \n31093710              Red Diary Page.2                    볼빨간사춘기   \n31085237        LOVE YOURSELF 轉 `Tear`                     방탄소년단   \n31113240             1÷χ=1 (UNDIVIDED)           Wanna One (워너원)   \n31113241             1÷χ=1 (UNDIVIDED)  Wanna One (워너원) - 트리플포지션   \n31113243             1÷χ=1 (UNDIVIDED)      Wanna One (워너원) - 더힐   \n...                                ...                       ...   \n30985406             나의 아저씨 OST Part.2                    Sondia   \n30086173           LIFE IS BEAUTY FULL             문문 (MoonMoon)   \n30383758             종현 소품집 `이야기 Op.2`             종현 (JONGHYUN)   \n30481578                         마지막처럼                 BLACKPINK   \n30380953  Illuminate (New Deluxe Ver.)              Shawn Mendes   \n\n                                     name     좋아요  테스트컬럼  \nid                                                        \n31093710                               여행  124968      1  \n31085237                        FAKE LOVE  200654      2  \n31113240                       켜줘 (Light)   93035      3  \n31113241      캥거루 (Kangaroo) (Prod. ZICO)   79320      4  \n31113243                 모래시계 (Prod. 헤이즈)   67872      5  \n...                                   ...     ...    ...  \n30985406                               어른   47994     95  \n30086173                              비행운  202347     97  \n30383758                Lonely (Feat. 태연)  180606     98  \n30481578                            마지막처럼  159147     99  \n30380953  There`s Nothing Holdin` Me Back  107309    100  \n\n[99 rows x 5 columns]",
      "text/html": "<div>\n<style scoped>\n    .dataframe tbody tr th:only-of-type {\n        vertical-align: middle;\n    }\n\n    .dataframe tbody tr th {\n        vertical-align: top;\n    }\n\n    .dataframe thead th {\n        text-align: right;\n    }\n</style>\n<table border=\"1\" class=\"dataframe\">\n  <thead>\n    <tr style=\"text-align: right;\">\n      <th></th>\n      <th>album_name</th>\n      <th>artist_name</th>\n      <th>name</th>\n      <th>좋아요</th>\n      <th>테스트컬럼</th>\n    </tr>\n    <tr>\n      <th>id</th>\n      <th></th>\n      <th></th>\n      <th></th>\n      <th></th>\n      <th></th>\n    </tr>\n  </thead>\n  <tbody>\n    <tr>\n      <th>31093710</th>\n      <td>Red Diary Page.2</td>\n      <td>볼빨간사춘기</td>\n      <td>여행</td>\n      <td>124968</td>\n      <td>1</td>\n    </tr>\n    <tr>\n      <th>31085237</th>\n      <td>LOVE YOURSELF 轉 `Tear`</td>\n      <td>방탄소년단</td>\n      <td>FAKE LOVE</td>\n      <td>200654</td>\n      <td>2</td>\n    </tr>\n    <tr>\n      <th>31113240</th>\n      <td>1÷χ=1 (UNDIVIDED)</td>\n      <td>Wanna One (워너원)</td>\n      <td>켜줘 (Light)</td>\n      <td>93035</td>\n      <td>3</td>\n    </tr>\n    <tr>\n      <th>31113241</th>\n      <td>1÷χ=1 (UNDIVIDED)</td>\n      <td>Wanna One (워너원) - 트리플포지션</td>\n      <td>캥거루 (Kangaroo) (Prod. ZICO)</td>\n      <td>79320</td>\n      <td>4</td>\n    </tr>\n    <tr>\n      <th>31113243</th>\n      <td>1÷χ=1 (UNDIVIDED)</td>\n      <td>Wanna One (워너원) - 더힐</td>\n      <td>모래시계 (Prod. 헤이즈)</td>\n      <td>67872</td>\n      <td>5</td>\n    </tr>\n    <tr>\n      <th>...</th>\n      <td>...</td>\n      <td>...</td>\n      <td>...</td>\n      <td>...</td>\n      <td>...</td>\n    </tr>\n    <tr>\n      <th>30985406</th>\n      <td>나의 아저씨 OST Part.2</td>\n      <td>Sondia</td>\n      <td>어른</td>\n      <td>47994</td>\n      <td>95</td>\n    </tr>\n    <tr>\n      <th>30086173</th>\n      <td>LIFE IS BEAUTY FULL</td>\n      <td>문문 (MoonMoon)</td>\n      <td>비행운</td>\n      <td>202347</td>\n      <td>97</td>\n    </tr>\n    <tr>\n      <th>30383758</th>\n      <td>종현 소품집 `이야기 Op.2`</td>\n      <td>종현 (JONGHYUN)</td>\n      <td>Lonely (Feat. 태연)</td>\n      <td>180606</td>\n      <td>98</td>\n    </tr>\n    <tr>\n      <th>30481578</th>\n      <td>마지막처럼</td>\n      <td>BLACKPINK</td>\n      <td>마지막처럼</td>\n      <td>159147</td>\n      <td>99</td>\n    </tr>\n    <tr>\n      <th>30380953</th>\n      <td>Illuminate (New Deluxe Ver.)</td>\n      <td>Shawn Mendes</td>\n      <td>There`s Nothing Holdin` Me Back</td>\n      <td>107309</td>\n      <td>100</td>\n    </tr>\n  </tbody>\n</table>\n<p>99 rows × 5 columns</p>\n</div>"
     },
     "metadata": {},
     "execution_count": 18
    }
   ],
   "source": [
    "df"
   ]
  },
  {
   "cell_type": "code",
   "execution_count": 20,
   "metadata": {},
   "outputs": [
    {
     "output_type": "execute_result",
     "data": {
      "text/plain": "                            album_name               artist_name     좋아요  \\\nid                                                                         \n31093710              Red Diary Page.2                    볼빨간사춘기  124968   \n31085237        LOVE YOURSELF 轉 `Tear`                     방탄소년단  200654   \n31113240             1÷χ=1 (UNDIVIDED)           Wanna One (워너원)   93035   \n31113241             1÷χ=1 (UNDIVIDED)  Wanna One (워너원) - 트리플포지션   79320   \n31113243             1÷χ=1 (UNDIVIDED)      Wanna One (워너원) - 더힐   67872   \n...                                ...                       ...     ...   \n30985406             나의 아저씨 OST Part.2                    Sondia   47994   \n30086173           LIFE IS BEAUTY FULL             문문 (MoonMoon)  202347   \n30383758             종현 소품집 `이야기 Op.2`             종현 (JONGHYUN)  180606   \n30481578                         마지막처럼                 BLACKPINK  159147   \n30380953  Illuminate (New Deluxe Ver.)              Shawn Mendes  107309   \n\n          테스트컬럼  \nid               \n31093710      1  \n31085237      2  \n31113240      3  \n31113241      4  \n31113243      5  \n...         ...  \n30985406     95  \n30086173     97  \n30383758     98  \n30481578     99  \n30380953    100  \n\n[99 rows x 4 columns]",
      "text/html": "<div>\n<style scoped>\n    .dataframe tbody tr th:only-of-type {\n        vertical-align: middle;\n    }\n\n    .dataframe tbody tr th {\n        vertical-align: top;\n    }\n\n    .dataframe thead th {\n        text-align: right;\n    }\n</style>\n<table border=\"1\" class=\"dataframe\">\n  <thead>\n    <tr style=\"text-align: right;\">\n      <th></th>\n      <th>album_name</th>\n      <th>artist_name</th>\n      <th>좋아요</th>\n      <th>테스트컬럼</th>\n    </tr>\n    <tr>\n      <th>id</th>\n      <th></th>\n      <th></th>\n      <th></th>\n      <th></th>\n    </tr>\n  </thead>\n  <tbody>\n    <tr>\n      <th>31093710</th>\n      <td>Red Diary Page.2</td>\n      <td>볼빨간사춘기</td>\n      <td>124968</td>\n      <td>1</td>\n    </tr>\n    <tr>\n      <th>31085237</th>\n      <td>LOVE YOURSELF 轉 `Tear`</td>\n      <td>방탄소년단</td>\n      <td>200654</td>\n      <td>2</td>\n    </tr>\n    <tr>\n      <th>31113240</th>\n      <td>1÷χ=1 (UNDIVIDED)</td>\n      <td>Wanna One (워너원)</td>\n      <td>93035</td>\n      <td>3</td>\n    </tr>\n    <tr>\n      <th>31113241</th>\n      <td>1÷χ=1 (UNDIVIDED)</td>\n      <td>Wanna One (워너원) - 트리플포지션</td>\n      <td>79320</td>\n      <td>4</td>\n    </tr>\n    <tr>\n      <th>31113243</th>\n      <td>1÷χ=1 (UNDIVIDED)</td>\n      <td>Wanna One (워너원) - 더힐</td>\n      <td>67872</td>\n      <td>5</td>\n    </tr>\n    <tr>\n      <th>...</th>\n      <td>...</td>\n      <td>...</td>\n      <td>...</td>\n      <td>...</td>\n    </tr>\n    <tr>\n      <th>30985406</th>\n      <td>나의 아저씨 OST Part.2</td>\n      <td>Sondia</td>\n      <td>47994</td>\n      <td>95</td>\n    </tr>\n    <tr>\n      <th>30086173</th>\n      <td>LIFE IS BEAUTY FULL</td>\n      <td>문문 (MoonMoon)</td>\n      <td>202347</td>\n      <td>97</td>\n    </tr>\n    <tr>\n      <th>30383758</th>\n      <td>종현 소품집 `이야기 Op.2`</td>\n      <td>종현 (JONGHYUN)</td>\n      <td>180606</td>\n      <td>98</td>\n    </tr>\n    <tr>\n      <th>30481578</th>\n      <td>마지막처럼</td>\n      <td>BLACKPINK</td>\n      <td>159147</td>\n      <td>99</td>\n    </tr>\n    <tr>\n      <th>30380953</th>\n      <td>Illuminate (New Deluxe Ver.)</td>\n      <td>Shawn Mendes</td>\n      <td>107309</td>\n      <td>100</td>\n    </tr>\n  </tbody>\n</table>\n<p>99 rows × 4 columns</p>\n</div>"
     },
     "metadata": {},
     "execution_count": 20
    }
   ],
   "source": [
    "df.drop('name', axis=1)"
   ]
  },
  {
   "cell_type": "code",
   "execution_count": 21,
   "metadata": {},
   "outputs": [
    {
     "output_type": "execute_result",
     "data": {
      "text/plain": "                            album_name               artist_name     좋아요  \\\nid                                                                         \n31093710              Red Diary Page.2                    볼빨간사춘기  124968   \n31085237        LOVE YOURSELF 轉 `Tear`                     방탄소년단  200654   \n31113240             1÷χ=1 (UNDIVIDED)           Wanna One (워너원)   93035   \n31113241             1÷χ=1 (UNDIVIDED)  Wanna One (워너원) - 트리플포지션   79320   \n31113243             1÷χ=1 (UNDIVIDED)      Wanna One (워너원) - 더힐   67872   \n...                                ...                       ...     ...   \n30985406             나의 아저씨 OST Part.2                    Sondia   47994   \n30086173           LIFE IS BEAUTY FULL             문문 (MoonMoon)  202347   \n30383758             종현 소품집 `이야기 Op.2`             종현 (JONGHYUN)  180606   \n30481578                         마지막처럼                 BLACKPINK  159147   \n30380953  Illuminate (New Deluxe Ver.)              Shawn Mendes  107309   \n\n          테스트컬럼  \nid               \n31093710      1  \n31085237      2  \n31113240      3  \n31113241      4  \n31113243      5  \n...         ...  \n30985406     95  \n30086173     97  \n30383758     98  \n30481578     99  \n30380953    100  \n\n[99 rows x 4 columns]",
      "text/html": "<div>\n<style scoped>\n    .dataframe tbody tr th:only-of-type {\n        vertical-align: middle;\n    }\n\n    .dataframe tbody tr th {\n        vertical-align: top;\n    }\n\n    .dataframe thead th {\n        text-align: right;\n    }\n</style>\n<table border=\"1\" class=\"dataframe\">\n  <thead>\n    <tr style=\"text-align: right;\">\n      <th></th>\n      <th>album_name</th>\n      <th>artist_name</th>\n      <th>좋아요</th>\n      <th>테스트컬럼</th>\n    </tr>\n    <tr>\n      <th>id</th>\n      <th></th>\n      <th></th>\n      <th></th>\n      <th></th>\n    </tr>\n  </thead>\n  <tbody>\n    <tr>\n      <th>31093710</th>\n      <td>Red Diary Page.2</td>\n      <td>볼빨간사춘기</td>\n      <td>124968</td>\n      <td>1</td>\n    </tr>\n    <tr>\n      <th>31085237</th>\n      <td>LOVE YOURSELF 轉 `Tear`</td>\n      <td>방탄소년단</td>\n      <td>200654</td>\n      <td>2</td>\n    </tr>\n    <tr>\n      <th>31113240</th>\n      <td>1÷χ=1 (UNDIVIDED)</td>\n      <td>Wanna One (워너원)</td>\n      <td>93035</td>\n      <td>3</td>\n    </tr>\n    <tr>\n      <th>31113241</th>\n      <td>1÷χ=1 (UNDIVIDED)</td>\n      <td>Wanna One (워너원) - 트리플포지션</td>\n      <td>79320</td>\n      <td>4</td>\n    </tr>\n    <tr>\n      <th>31113243</th>\n      <td>1÷χ=1 (UNDIVIDED)</td>\n      <td>Wanna One (워너원) - 더힐</td>\n      <td>67872</td>\n      <td>5</td>\n    </tr>\n    <tr>\n      <th>...</th>\n      <td>...</td>\n      <td>...</td>\n      <td>...</td>\n      <td>...</td>\n    </tr>\n    <tr>\n      <th>30985406</th>\n      <td>나의 아저씨 OST Part.2</td>\n      <td>Sondia</td>\n      <td>47994</td>\n      <td>95</td>\n    </tr>\n    <tr>\n      <th>30086173</th>\n      <td>LIFE IS BEAUTY FULL</td>\n      <td>문문 (MoonMoon)</td>\n      <td>202347</td>\n      <td>97</td>\n    </tr>\n    <tr>\n      <th>30383758</th>\n      <td>종현 소품집 `이야기 Op.2`</td>\n      <td>종현 (JONGHYUN)</td>\n      <td>180606</td>\n      <td>98</td>\n    </tr>\n    <tr>\n      <th>30481578</th>\n      <td>마지막처럼</td>\n      <td>BLACKPINK</td>\n      <td>159147</td>\n      <td>99</td>\n    </tr>\n    <tr>\n      <th>30380953</th>\n      <td>Illuminate (New Deluxe Ver.)</td>\n      <td>Shawn Mendes</td>\n      <td>107309</td>\n      <td>100</td>\n    </tr>\n  </tbody>\n</table>\n<p>99 rows × 4 columns</p>\n</div>"
     },
     "metadata": {},
     "execution_count": 21
    }
   ],
   "source": [
    "df.drop(columns='name')"
   ]
  },
  {
   "cell_type": "code",
   "execution_count": 23,
   "metadata": {},
   "outputs": [
    {
     "output_type": "execute_result",
     "data": {
      "text/plain": "                    판매건수     가격        매출\n상품명                                      \n봉투                 12362     50    618100\n바나나                 4285   3900  16711500\n야채                  4190      0         0\n켐벨포도                2780  29800  82844000\n알뜰특란                2768   5300  14670400\n...                  ...    ...       ...\n바지락                  253      0         0\n해표)카놀라유              253   5600   1416800\n오)자른당면               252   5850   1474200\n롯데)알뜰소시지             252   4400   1108800\n한돈앞다리/불고기,찌개(국내산)    252      0         0\n\n[200 rows x 3 columns]",
      "text/html": "<div>\n<style scoped>\n    .dataframe tbody tr th:only-of-type {\n        vertical-align: middle;\n    }\n\n    .dataframe tbody tr th {\n        vertical-align: top;\n    }\n\n    .dataframe thead th {\n        text-align: right;\n    }\n</style>\n<table border=\"1\" class=\"dataframe\">\n  <thead>\n    <tr style=\"text-align: right;\">\n      <th></th>\n      <th>판매건수</th>\n      <th>가격</th>\n      <th>매출</th>\n    </tr>\n    <tr>\n      <th>상품명</th>\n      <th></th>\n      <th></th>\n      <th></th>\n    </tr>\n  </thead>\n  <tbody>\n    <tr>\n      <th>봉투</th>\n      <td>12362</td>\n      <td>50</td>\n      <td>618100</td>\n    </tr>\n    <tr>\n      <th>바나나</th>\n      <td>4285</td>\n      <td>3900</td>\n      <td>16711500</td>\n    </tr>\n    <tr>\n      <th>야채</th>\n      <td>4190</td>\n      <td>0</td>\n      <td>0</td>\n    </tr>\n    <tr>\n      <th>켐벨포도</th>\n      <td>2780</td>\n      <td>29800</td>\n      <td>82844000</td>\n    </tr>\n    <tr>\n      <th>알뜰특란</th>\n      <td>2768</td>\n      <td>5300</td>\n      <td>14670400</td>\n    </tr>\n    <tr>\n      <th>...</th>\n      <td>...</td>\n      <td>...</td>\n      <td>...</td>\n    </tr>\n    <tr>\n      <th>바지락</th>\n      <td>253</td>\n      <td>0</td>\n      <td>0</td>\n    </tr>\n    <tr>\n      <th>해표)카놀라유</th>\n      <td>253</td>\n      <td>5600</td>\n      <td>1416800</td>\n    </tr>\n    <tr>\n      <th>오)자른당면</th>\n      <td>252</td>\n      <td>5850</td>\n      <td>1474200</td>\n    </tr>\n    <tr>\n      <th>롯데)알뜰소시지</th>\n      <td>252</td>\n      <td>4400</td>\n      <td>1108800</td>\n    </tr>\n    <tr>\n      <th>한돈앞다리/불고기,찌개(국내산)</th>\n      <td>252</td>\n      <td>0</td>\n      <td>0</td>\n    </tr>\n  </tbody>\n</table>\n<p>200 rows × 3 columns</p>\n</div>"
     },
     "metadata": {},
     "execution_count": 23
    }
   ],
   "source": [
    "df1 = pd.read_excel('data/2016-01.xls', index_col='상품명')\n",
    "df1"
   ]
  },
  {
   "cell_type": "code",
   "execution_count": 24,
   "metadata": {},
   "outputs": [
    {
     "output_type": "execute_result",
     "data": {
      "text/plain": "              판매건수     가격\n상품명                      \n봉투           10519     50\n바나나           3123   3900\n야채            2975      0\n켐벨포도          2344  29800\n알뜰특란          2242   5300\n...            ...    ...\n감귤             215  28000\n청)토마토스파게티소스    215   7250\n아이순            215      0\n냉이             215      0\n수입대패삼겹살        214      0\n\n[200 rows x 2 columns]",
      "text/html": "<div>\n<style scoped>\n    .dataframe tbody tr th:only-of-type {\n        vertical-align: middle;\n    }\n\n    .dataframe tbody tr th {\n        vertical-align: top;\n    }\n\n    .dataframe thead th {\n        text-align: right;\n    }\n</style>\n<table border=\"1\" class=\"dataframe\">\n  <thead>\n    <tr style=\"text-align: right;\">\n      <th></th>\n      <th>판매건수</th>\n      <th>가격</th>\n    </tr>\n    <tr>\n      <th>상품명</th>\n      <th></th>\n      <th></th>\n    </tr>\n  </thead>\n  <tbody>\n    <tr>\n      <th>봉투</th>\n      <td>10519</td>\n      <td>50</td>\n    </tr>\n    <tr>\n      <th>바나나</th>\n      <td>3123</td>\n      <td>3900</td>\n    </tr>\n    <tr>\n      <th>야채</th>\n      <td>2975</td>\n      <td>0</td>\n    </tr>\n    <tr>\n      <th>켐벨포도</th>\n      <td>2344</td>\n      <td>29800</td>\n    </tr>\n    <tr>\n      <th>알뜰특란</th>\n      <td>2242</td>\n      <td>5300</td>\n    </tr>\n    <tr>\n      <th>...</th>\n      <td>...</td>\n      <td>...</td>\n    </tr>\n    <tr>\n      <th>감귤</th>\n      <td>215</td>\n      <td>28000</td>\n    </tr>\n    <tr>\n      <th>청)토마토스파게티소스</th>\n      <td>215</td>\n      <td>7250</td>\n    </tr>\n    <tr>\n      <th>아이순</th>\n      <td>215</td>\n      <td>0</td>\n    </tr>\n    <tr>\n      <th>냉이</th>\n      <td>215</td>\n      <td>0</td>\n    </tr>\n    <tr>\n      <th>수입대패삼겹살</th>\n      <td>214</td>\n      <td>0</td>\n    </tr>\n  </tbody>\n</table>\n<p>200 rows × 2 columns</p>\n</div>"
     },
     "metadata": {},
     "execution_count": 24
    }
   ],
   "source": [
    "df2 = pd.read_excel('data/2016-02.xls', index_col='상품명')\n",
    "df2"
   ]
  },
  {
   "cell_type": "code",
   "execution_count": 25,
   "metadata": {},
   "outputs": [
    {
     "output_type": "execute_result",
     "data": {
      "text/plain": "                    가격  매출    판매건수\n상품명                               \nCJ)안심종합어묵          NaN NaN     NaN\nCJ)얇은사각어묵          NaN NaN     NaN\nCJ)주부초밥왕(소풍)       NaN NaN     NaN\nCJ)행복한콩(고소부침)   2960.0 NaN  1259.0\nCJ)행복한콩(고소찌게)   2960.0 NaN  1197.0\n...                ...  ..     ...\n해표)카놀라유        11200.0 NaN   603.0\n허니미니꿀호떡            NaN NaN     NaN\n호박고구마              0.0 NaN   523.0\n황도복숭아              0.0 NaN   550.0\n흙당근                0.0 NaN  1300.0\n\n[264 rows x 3 columns]",
      "text/html": "<div>\n<style scoped>\n    .dataframe tbody tr th:only-of-type {\n        vertical-align: middle;\n    }\n\n    .dataframe tbody tr th {\n        vertical-align: top;\n    }\n\n    .dataframe thead th {\n        text-align: right;\n    }\n</style>\n<table border=\"1\" class=\"dataframe\">\n  <thead>\n    <tr style=\"text-align: right;\">\n      <th></th>\n      <th>가격</th>\n      <th>매출</th>\n      <th>판매건수</th>\n    </tr>\n    <tr>\n      <th>상품명</th>\n      <th></th>\n      <th></th>\n      <th></th>\n    </tr>\n  </thead>\n  <tbody>\n    <tr>\n      <th>CJ)안심종합어묵</th>\n      <td>NaN</td>\n      <td>NaN</td>\n      <td>NaN</td>\n    </tr>\n    <tr>\n      <th>CJ)얇은사각어묵</th>\n      <td>NaN</td>\n      <td>NaN</td>\n      <td>NaN</td>\n    </tr>\n    <tr>\n      <th>CJ)주부초밥왕(소풍)</th>\n      <td>NaN</td>\n      <td>NaN</td>\n      <td>NaN</td>\n    </tr>\n    <tr>\n      <th>CJ)행복한콩(고소부침)</th>\n      <td>2960.0</td>\n      <td>NaN</td>\n      <td>1259.0</td>\n    </tr>\n    <tr>\n      <th>CJ)행복한콩(고소찌게)</th>\n      <td>2960.0</td>\n      <td>NaN</td>\n      <td>1197.0</td>\n    </tr>\n    <tr>\n      <th>...</th>\n      <td>...</td>\n      <td>...</td>\n      <td>...</td>\n    </tr>\n    <tr>\n      <th>해표)카놀라유</th>\n      <td>11200.0</td>\n      <td>NaN</td>\n      <td>603.0</td>\n    </tr>\n    <tr>\n      <th>허니미니꿀호떡</th>\n      <td>NaN</td>\n      <td>NaN</td>\n      <td>NaN</td>\n    </tr>\n    <tr>\n      <th>호박고구마</th>\n      <td>0.0</td>\n      <td>NaN</td>\n      <td>523.0</td>\n    </tr>\n    <tr>\n      <th>황도복숭아</th>\n      <td>0.0</td>\n      <td>NaN</td>\n      <td>550.0</td>\n    </tr>\n    <tr>\n      <th>흙당근</th>\n      <td>0.0</td>\n      <td>NaN</td>\n      <td>1300.0</td>\n    </tr>\n  </tbody>\n</table>\n<p>264 rows × 3 columns</p>\n</div>"
     },
     "metadata": {},
     "execution_count": 25
    }
   ],
   "source": [
    "df1 + df2"
   ]
  },
  {
   "cell_type": "code",
   "execution_count": 28,
   "metadata": {},
   "outputs": [
    {
     "output_type": "stream",
     "name": "stdout",
     "text": "(400, 3)\n"
    },
    {
     "output_type": "execute_result",
     "data": {
      "text/plain": "       판매건수     가격          매출\n상품명                           \n봉투    12362     50    618100.0\n바나나    4285   3900  16711500.0\n야채     4190      0         0.0\n켐벨포도   2780  29800  82844000.0\n알뜰특란   2768   5300  14670400.0",
      "text/html": "<div>\n<style scoped>\n    .dataframe tbody tr th:only-of-type {\n        vertical-align: middle;\n    }\n\n    .dataframe tbody tr th {\n        vertical-align: top;\n    }\n\n    .dataframe thead th {\n        text-align: right;\n    }\n</style>\n<table border=\"1\" class=\"dataframe\">\n  <thead>\n    <tr style=\"text-align: right;\">\n      <th></th>\n      <th>판매건수</th>\n      <th>가격</th>\n      <th>매출</th>\n    </tr>\n    <tr>\n      <th>상품명</th>\n      <th></th>\n      <th></th>\n      <th></th>\n    </tr>\n  </thead>\n  <tbody>\n    <tr>\n      <th>봉투</th>\n      <td>12362</td>\n      <td>50</td>\n      <td>618100.0</td>\n    </tr>\n    <tr>\n      <th>바나나</th>\n      <td>4285</td>\n      <td>3900</td>\n      <td>16711500.0</td>\n    </tr>\n    <tr>\n      <th>야채</th>\n      <td>4190</td>\n      <td>0</td>\n      <td>0.0</td>\n    </tr>\n    <tr>\n      <th>켐벨포도</th>\n      <td>2780</td>\n      <td>29800</td>\n      <td>82844000.0</td>\n    </tr>\n    <tr>\n      <th>알뜰특란</th>\n      <td>2768</td>\n      <td>5300</td>\n      <td>14670400.0</td>\n    </tr>\n  </tbody>\n</table>\n</div>"
     },
     "metadata": {},
     "execution_count": 28
    }
   ],
   "source": [
    "df3 = df1.append(df2)\n",
    "print(df3.shape)\n",
    "df3.head()"
   ]
  },
  {
   "cell_type": "code",
   "execution_count": 30,
   "metadata": {},
   "outputs": [
    {
     "output_type": "stream",
     "name": "stdout",
     "text": "(400, 3)\n"
    },
    {
     "output_type": "execute_result",
     "data": {
      "text/plain": "       판매건수     가격          매출\n상품명                           \n봉투    12362     50    618100.0\n바나나    4285   3900  16711500.0\n야채     4190      0         0.0\n켐벨포도   2780  29800  82844000.0\n알뜰특란   2768   5300  14670400.0",
      "text/html": "<div>\n<style scoped>\n    .dataframe tbody tr th:only-of-type {\n        vertical-align: middle;\n    }\n\n    .dataframe tbody tr th {\n        vertical-align: top;\n    }\n\n    .dataframe thead th {\n        text-align: right;\n    }\n</style>\n<table border=\"1\" class=\"dataframe\">\n  <thead>\n    <tr style=\"text-align: right;\">\n      <th></th>\n      <th>판매건수</th>\n      <th>가격</th>\n      <th>매출</th>\n    </tr>\n    <tr>\n      <th>상품명</th>\n      <th></th>\n      <th></th>\n      <th></th>\n    </tr>\n  </thead>\n  <tbody>\n    <tr>\n      <th>봉투</th>\n      <td>12362</td>\n      <td>50</td>\n      <td>618100.0</td>\n    </tr>\n    <tr>\n      <th>바나나</th>\n      <td>4285</td>\n      <td>3900</td>\n      <td>16711500.0</td>\n    </tr>\n    <tr>\n      <th>야채</th>\n      <td>4190</td>\n      <td>0</td>\n      <td>0.0</td>\n    </tr>\n    <tr>\n      <th>켐벨포도</th>\n      <td>2780</td>\n      <td>29800</td>\n      <td>82844000.0</td>\n    </tr>\n    <tr>\n      <th>알뜰특란</th>\n      <td>2768</td>\n      <td>5300</td>\n      <td>14670400.0</td>\n    </tr>\n  </tbody>\n</table>\n</div>"
     },
     "metadata": {},
     "execution_count": 30
    }
   ],
   "source": [
    "df4 = pd.concat([df1, df2])\n",
    "print(df4.shape)\n",
    "df4.head()"
   ]
  },
  {
   "cell_type": "code",
   "execution_count": null,
   "metadata": {},
   "outputs": [],
   "source": []
  }
 ],
 "metadata": {
  "language_info": {
   "codemirror_mode": {
    "name": "ipython",
    "version": 3
   },
   "file_extension": ".py",
   "mimetype": "text/x-python",
   "name": "python",
   "nbconvert_exporter": "python",
   "pygments_lexer": "ipython3",
   "version": "3.7.6-final"
  },
  "orig_nbformat": 2,
  "kernelspec": {
   "name": "python3",
   "display_name": "Python 3"
  }
 },
 "nbformat": 4,
 "nbformat_minor": 2
}